{
  "nbformat": 4,
  "nbformat_minor": 0,
  "metadata": {
    "colab": {
      "name": "ML_Final_More_Numerical.ipynb",
      "provenance": [],
      "collapsed_sections": []
    },
    "kernelspec": {
      "name": "python3",
      "display_name": "Python 3"
    }
  },
  "cells": [
    {
      "cell_type": "code",
      "metadata": {
        "colab": {
          "base_uri": "https://localhost:8080/"
        },
        "id": "5NQTtjKXncMi",
        "outputId": "31ec5d75-3aaf-4f40-b36a-ae511631e2f2"
      },
      "source": [
        "!gdown --id 1egy4mye5Y_XWDRvQCZ1INYh347hrrdx5\n",
        "!gdown --id 1zNUnOV_uJPhGLdeqa60GI3MXDe0mjoig\n",
        "!gdown --id 1t8slD-WEiXlaA3MmTPDFiWvXvRRoIA1Z\n",
        "!gdown --id 19V6pgcpM9JWNHyhzP0QHupNCRW3s6XH3"
      ],
      "execution_count": null,
      "outputs": [
        {
          "output_type": "stream",
          "text": [
            "Downloading...\n",
            "From: https://drive.google.com/uc?id=1egy4mye5Y_XWDRvQCZ1INYh347hrrdx5\n",
            "To: /content/train.csv\n",
            "14.7MB [00:00, 31.8MB/s]\n",
            "Downloading...\n",
            "From: https://drive.google.com/uc?id=1zNUnOV_uJPhGLdeqa60GI3MXDe0mjoig\n",
            "To: /content/train_label.csv\n",
            "100% 9.62k/9.62k [00:00<00:00, 7.52MB/s]\n",
            "Downloading...\n",
            "From: https://drive.google.com/uc?id=1t8slD-WEiXlaA3MmTPDFiWvXvRRoIA1Z\n",
            "To: /content/test.csv\n",
            "3.30MB [00:00, 105MB/s]\n",
            "Downloading...\n",
            "From: https://drive.google.com/uc?id=19V6pgcpM9JWNHyhzP0QHupNCRW3s6XH3\n",
            "To: /content/test_nolabel.csv\n",
            "100% 1.70k/1.70k [00:00<00:00, 2.92MB/s]\n"
          ],
          "name": "stdout"
        }
      ]
    },
    {
      "cell_type": "code",
      "metadata": {
        "id": "W7AhKRM1oGQB"
      },
      "source": [
        "import pandas as pd\n",
        "\n",
        "train = pd.read_csv('train.csv')\n",
        "train_label = pd.read_csv('train_label.csv')\n",
        "\n",
        "test = pd.read_csv('test.csv')\n",
        "test_nolabel = pd.read_csv('test_nolabel.csv')"
      ],
      "execution_count": null,
      "outputs": []
    },
    {
      "cell_type": "markdown",
      "metadata": {
        "id": "wOuz5nj4nesG"
      },
      "source": [
        "### Revenue Calculation"
      ]
    },
    {
      "cell_type": "code",
      "metadata": {
        "id": "ZGYOPca8nhqL"
      },
      "source": [
        "# number of staying days\n",
        "train['stays'] = train['stays_in_weekend_nights'] + train['stays_in_week_nights']\n",
        "test['stays'] = test['stays_in_weekend_nights'] + test['stays_in_week_nights']"
      ],
      "execution_count": null,
      "outputs": []
    },
    {
      "cell_type": "code",
      "metadata": {
        "id": "8r_sYHprTbNz"
      },
      "source": [
        "train['children'] = train['children'].fillna(0) # 缺漏值補 0\n",
        "test['children'] = test['children'].fillna(0)"
      ],
      "execution_count": null,
      "outputs": []
    },
    {
      "cell_type": "code",
      "metadata": {
        "id": "RyufdvncTClh"
      },
      "source": [
        "train['people_num'] = train['adults'] + train['children'] + train['babies']\n",
        "test['people_num'] = test['adults'] + test['children'] + test['babies']"
      ],
      "execution_count": null,
      "outputs": []
    },
    {
      "cell_type": "code",
      "metadata": {
        "id": "DtmIFhKzWIKE"
      },
      "source": [
        "# train 拿掉，但 test 仍然會有，怪怪的\n",
        "# train = train[ train['stays'] != 0 ]\n",
        "# train = train[ train['people_num'] != 0 ]"
      ],
      "execution_count": null,
      "outputs": []
    },
    {
      "cell_type": "code",
      "metadata": {
        "id": "re7ySYnwoBgG"
      },
      "source": [
        "# calculate revenue\n",
        "train['revenue'] = train['stays'] * train['adr'] * (1 - train['is_canceled'])\n",
        "test['revenue'] = None"
      ],
      "execution_count": null,
      "outputs": []
    },
    {
      "cell_type": "code",
      "metadata": {
        "id": "q6g2LW4jPdia"
      },
      "source": [
        "train['date'] = pd.to_datetime(train[['arrival_date_year', 'arrival_date_month', 'arrival_date_day_of_month']].astype(str).apply(' '.join, 1))\n",
        "test['date'] = pd.to_datetime(test[['arrival_date_year', 'arrival_date_month', 'arrival_date_day_of_month']].astype(str).apply(' '.join, 1))"
      ],
      "execution_count": null,
      "outputs": []
    },
    {
      "cell_type": "code",
      "metadata": {
        "colab": {
          "base_uri": "https://localhost:8080/",
          "height": 309
        },
        "id": "7S0wdCrxTrUb",
        "outputId": "bbd9ee9d-2003-410c-c0a9-460fa0bd2d5a"
      },
      "source": [
        "train.head()"
      ],
      "execution_count": null,
      "outputs": [
        {
          "output_type": "execute_result",
          "data": {
            "text/html": [
              "<div>\n",
              "<style scoped>\n",
              "    .dataframe tbody tr th:only-of-type {\n",
              "        vertical-align: middle;\n",
              "    }\n",
              "\n",
              "    .dataframe tbody tr th {\n",
              "        vertical-align: top;\n",
              "    }\n",
              "\n",
              "    .dataframe thead th {\n",
              "        text-align: right;\n",
              "    }\n",
              "</style>\n",
              "<table border=\"1\" class=\"dataframe\">\n",
              "  <thead>\n",
              "    <tr style=\"text-align: right;\">\n",
              "      <th></th>\n",
              "      <th>ID</th>\n",
              "      <th>hotel</th>\n",
              "      <th>is_canceled</th>\n",
              "      <th>lead_time</th>\n",
              "      <th>arrival_date_year</th>\n",
              "      <th>arrival_date_month</th>\n",
              "      <th>arrival_date_week_number</th>\n",
              "      <th>arrival_date_day_of_month</th>\n",
              "      <th>stays_in_weekend_nights</th>\n",
              "      <th>stays_in_week_nights</th>\n",
              "      <th>adults</th>\n",
              "      <th>children</th>\n",
              "      <th>babies</th>\n",
              "      <th>meal</th>\n",
              "      <th>country</th>\n",
              "      <th>market_segment</th>\n",
              "      <th>distribution_channel</th>\n",
              "      <th>is_repeated_guest</th>\n",
              "      <th>previous_cancellations</th>\n",
              "      <th>previous_bookings_not_canceled</th>\n",
              "      <th>reserved_room_type</th>\n",
              "      <th>assigned_room_type</th>\n",
              "      <th>booking_changes</th>\n",
              "      <th>deposit_type</th>\n",
              "      <th>agent</th>\n",
              "      <th>company</th>\n",
              "      <th>days_in_waiting_list</th>\n",
              "      <th>customer_type</th>\n",
              "      <th>adr</th>\n",
              "      <th>required_car_parking_spaces</th>\n",
              "      <th>total_of_special_requests</th>\n",
              "      <th>reservation_status</th>\n",
              "      <th>reservation_status_date</th>\n",
              "      <th>stays</th>\n",
              "      <th>people_num</th>\n",
              "      <th>revenue</th>\n",
              "      <th>date</th>\n",
              "    </tr>\n",
              "  </thead>\n",
              "  <tbody>\n",
              "    <tr>\n",
              "      <th>0</th>\n",
              "      <td>0</td>\n",
              "      <td>Resort Hotel</td>\n",
              "      <td>0</td>\n",
              "      <td>342</td>\n",
              "      <td>2015</td>\n",
              "      <td>July</td>\n",
              "      <td>27</td>\n",
              "      <td>1</td>\n",
              "      <td>0</td>\n",
              "      <td>0</td>\n",
              "      <td>2</td>\n",
              "      <td>0.0</td>\n",
              "      <td>0</td>\n",
              "      <td>BB</td>\n",
              "      <td>PRT</td>\n",
              "      <td>Direct</td>\n",
              "      <td>Direct</td>\n",
              "      <td>0</td>\n",
              "      <td>0</td>\n",
              "      <td>0</td>\n",
              "      <td>C</td>\n",
              "      <td>C</td>\n",
              "      <td>3</td>\n",
              "      <td>No Deposit</td>\n",
              "      <td>NaN</td>\n",
              "      <td>NaN</td>\n",
              "      <td>0</td>\n",
              "      <td>Transient</td>\n",
              "      <td>-6.305161</td>\n",
              "      <td>0</td>\n",
              "      <td>0</td>\n",
              "      <td>Check-Out</td>\n",
              "      <td>2015-07-01</td>\n",
              "      <td>0</td>\n",
              "      <td>2.0</td>\n",
              "      <td>-0.000000</td>\n",
              "      <td>2015-07-01</td>\n",
              "    </tr>\n",
              "    <tr>\n",
              "      <th>1</th>\n",
              "      <td>1</td>\n",
              "      <td>City Hotel</td>\n",
              "      <td>0</td>\n",
              "      <td>257</td>\n",
              "      <td>2015</td>\n",
              "      <td>July</td>\n",
              "      <td>27</td>\n",
              "      <td>1</td>\n",
              "      <td>0</td>\n",
              "      <td>2</td>\n",
              "      <td>1</td>\n",
              "      <td>0.0</td>\n",
              "      <td>0</td>\n",
              "      <td>HB</td>\n",
              "      <td>PRT</td>\n",
              "      <td>Offline TA/TO</td>\n",
              "      <td>TA/TO</td>\n",
              "      <td>0</td>\n",
              "      <td>0</td>\n",
              "      <td>0</td>\n",
              "      <td>A</td>\n",
              "      <td>A</td>\n",
              "      <td>1</td>\n",
              "      <td>No Deposit</td>\n",
              "      <td>6.0</td>\n",
              "      <td>NaN</td>\n",
              "      <td>0</td>\n",
              "      <td>Transient</td>\n",
              "      <td>75.052227</td>\n",
              "      <td>0</td>\n",
              "      <td>0</td>\n",
              "      <td>Check-Out</td>\n",
              "      <td>2015-07-03</td>\n",
              "      <td>2</td>\n",
              "      <td>1.0</td>\n",
              "      <td>150.104454</td>\n",
              "      <td>2015-07-01</td>\n",
              "    </tr>\n",
              "    <tr>\n",
              "      <th>2</th>\n",
              "      <td>2</td>\n",
              "      <td>City Hotel</td>\n",
              "      <td>0</td>\n",
              "      <td>257</td>\n",
              "      <td>2015</td>\n",
              "      <td>July</td>\n",
              "      <td>27</td>\n",
              "      <td>1</td>\n",
              "      <td>0</td>\n",
              "      <td>2</td>\n",
              "      <td>2</td>\n",
              "      <td>0.0</td>\n",
              "      <td>0</td>\n",
              "      <td>HB</td>\n",
              "      <td>PRT</td>\n",
              "      <td>Offline TA/TO</td>\n",
              "      <td>TA/TO</td>\n",
              "      <td>0</td>\n",
              "      <td>0</td>\n",
              "      <td>0</td>\n",
              "      <td>A</td>\n",
              "      <td>A</td>\n",
              "      <td>0</td>\n",
              "      <td>No Deposit</td>\n",
              "      <td>6.0</td>\n",
              "      <td>NaN</td>\n",
              "      <td>0</td>\n",
              "      <td>Transient</td>\n",
              "      <td>74.546401</td>\n",
              "      <td>0</td>\n",
              "      <td>0</td>\n",
              "      <td>Check-Out</td>\n",
              "      <td>2015-07-03</td>\n",
              "      <td>2</td>\n",
              "      <td>2.0</td>\n",
              "      <td>149.092802</td>\n",
              "      <td>2015-07-01</td>\n",
              "    </tr>\n",
              "    <tr>\n",
              "      <th>3</th>\n",
              "      <td>3</td>\n",
              "      <td>City Hotel</td>\n",
              "      <td>0</td>\n",
              "      <td>257</td>\n",
              "      <td>2015</td>\n",
              "      <td>July</td>\n",
              "      <td>27</td>\n",
              "      <td>1</td>\n",
              "      <td>0</td>\n",
              "      <td>2</td>\n",
              "      <td>2</td>\n",
              "      <td>0.0</td>\n",
              "      <td>0</td>\n",
              "      <td>HB</td>\n",
              "      <td>PRT</td>\n",
              "      <td>Offline TA/TO</td>\n",
              "      <td>TA/TO</td>\n",
              "      <td>0</td>\n",
              "      <td>0</td>\n",
              "      <td>0</td>\n",
              "      <td>A</td>\n",
              "      <td>A</td>\n",
              "      <td>0</td>\n",
              "      <td>No Deposit</td>\n",
              "      <td>6.0</td>\n",
              "      <td>NaN</td>\n",
              "      <td>0</td>\n",
              "      <td>Transient</td>\n",
              "      <td>76.376288</td>\n",
              "      <td>0</td>\n",
              "      <td>0</td>\n",
              "      <td>Check-Out</td>\n",
              "      <td>2015-07-03</td>\n",
              "      <td>2</td>\n",
              "      <td>2.0</td>\n",
              "      <td>152.752575</td>\n",
              "      <td>2015-07-01</td>\n",
              "    </tr>\n",
              "    <tr>\n",
              "      <th>4</th>\n",
              "      <td>4</td>\n",
              "      <td>City Hotel</td>\n",
              "      <td>0</td>\n",
              "      <td>257</td>\n",
              "      <td>2015</td>\n",
              "      <td>July</td>\n",
              "      <td>27</td>\n",
              "      <td>1</td>\n",
              "      <td>0</td>\n",
              "      <td>2</td>\n",
              "      <td>2</td>\n",
              "      <td>0.0</td>\n",
              "      <td>0</td>\n",
              "      <td>HB</td>\n",
              "      <td>PRT</td>\n",
              "      <td>Offline TA/TO</td>\n",
              "      <td>TA/TO</td>\n",
              "      <td>0</td>\n",
              "      <td>0</td>\n",
              "      <td>0</td>\n",
              "      <td>A</td>\n",
              "      <td>A</td>\n",
              "      <td>0</td>\n",
              "      <td>No Deposit</td>\n",
              "      <td>6.0</td>\n",
              "      <td>NaN</td>\n",
              "      <td>0</td>\n",
              "      <td>Transient</td>\n",
              "      <td>49.411647</td>\n",
              "      <td>0</td>\n",
              "      <td>0</td>\n",
              "      <td>Check-Out</td>\n",
              "      <td>2015-07-03</td>\n",
              "      <td>2</td>\n",
              "      <td>2.0</td>\n",
              "      <td>98.823294</td>\n",
              "      <td>2015-07-01</td>\n",
              "    </tr>\n",
              "  </tbody>\n",
              "</table>\n",
              "</div>"
            ],
            "text/plain": [
              "   ID         hotel  is_canceled  ...  people_num     revenue       date\n",
              "0   0  Resort Hotel            0  ...         2.0   -0.000000 2015-07-01\n",
              "1   1    City Hotel            0  ...         1.0  150.104454 2015-07-01\n",
              "2   2    City Hotel            0  ...         2.0  149.092802 2015-07-01\n",
              "3   3    City Hotel            0  ...         2.0  152.752575 2015-07-01\n",
              "4   4    City Hotel            0  ...         2.0   98.823294 2015-07-01\n",
              "\n",
              "[5 rows x 37 columns]"
            ]
          },
          "metadata": {
            "tags": []
          },
          "execution_count": 10
        }
      ]
    },
    {
      "cell_type": "code",
      "metadata": {
        "id": "F_YDAcPFVcxC"
      },
      "source": [
        "predict_train_label = train.groupby('date').sum()['revenue']\n",
        "\n",
        "predict_train_label = predict_train_label.to_frame()\n",
        "predict_train_label = (predict_train_label // 10000)\n",
        "predict_train_label_list = predict_train_label['revenue'].to_list()\n",
        "train_label_list = train_label['label'].to_list()"
      ],
      "execution_count": null,
      "outputs": []
    },
    {
      "cell_type": "code",
      "metadata": {
        "colab": {
          "base_uri": "https://localhost:8080/"
        },
        "id": "ObUMe9QrVc4i",
        "outputId": "1634b62e-3288-4da2-8237-8b2925d1e146"
      },
      "source": [
        "predict_train_label_list == train_label_list"
      ],
      "execution_count": null,
      "outputs": [
        {
          "output_type": "execute_result",
          "data": {
            "text/plain": [
              "True"
            ]
          },
          "metadata": {
            "tags": []
          },
          "execution_count": 12
        }
      ]
    },
    {
      "cell_type": "markdown",
      "metadata": {
        "id": "GGq_CFbsFuSP"
      },
      "source": [
        "### Canellation"
      ]
    },
    {
      "cell_type": "code",
      "metadata": {
        "id": "lS-3iIx1xLJz",
        "colab": {
          "base_uri": "https://localhost:8080/",
          "height": 309
        },
        "outputId": "d31b912d-6834-4a7a-cf22-24c29a160e59"
      },
      "source": [
        "train.head()"
      ],
      "execution_count": null,
      "outputs": [
        {
          "output_type": "execute_result",
          "data": {
            "text/html": [
              "<div>\n",
              "<style scoped>\n",
              "    .dataframe tbody tr th:only-of-type {\n",
              "        vertical-align: middle;\n",
              "    }\n",
              "\n",
              "    .dataframe tbody tr th {\n",
              "        vertical-align: top;\n",
              "    }\n",
              "\n",
              "    .dataframe thead th {\n",
              "        text-align: right;\n",
              "    }\n",
              "</style>\n",
              "<table border=\"1\" class=\"dataframe\">\n",
              "  <thead>\n",
              "    <tr style=\"text-align: right;\">\n",
              "      <th></th>\n",
              "      <th>ID</th>\n",
              "      <th>hotel</th>\n",
              "      <th>is_canceled</th>\n",
              "      <th>lead_time</th>\n",
              "      <th>arrival_date_year</th>\n",
              "      <th>arrival_date_month</th>\n",
              "      <th>arrival_date_week_number</th>\n",
              "      <th>arrival_date_day_of_month</th>\n",
              "      <th>stays_in_weekend_nights</th>\n",
              "      <th>stays_in_week_nights</th>\n",
              "      <th>adults</th>\n",
              "      <th>children</th>\n",
              "      <th>babies</th>\n",
              "      <th>meal</th>\n",
              "      <th>country</th>\n",
              "      <th>market_segment</th>\n",
              "      <th>distribution_channel</th>\n",
              "      <th>is_repeated_guest</th>\n",
              "      <th>previous_cancellations</th>\n",
              "      <th>previous_bookings_not_canceled</th>\n",
              "      <th>reserved_room_type</th>\n",
              "      <th>assigned_room_type</th>\n",
              "      <th>booking_changes</th>\n",
              "      <th>deposit_type</th>\n",
              "      <th>agent</th>\n",
              "      <th>company</th>\n",
              "      <th>days_in_waiting_list</th>\n",
              "      <th>customer_type</th>\n",
              "      <th>adr</th>\n",
              "      <th>required_car_parking_spaces</th>\n",
              "      <th>total_of_special_requests</th>\n",
              "      <th>reservation_status</th>\n",
              "      <th>reservation_status_date</th>\n",
              "      <th>stays</th>\n",
              "      <th>people_num</th>\n",
              "      <th>revenue</th>\n",
              "      <th>date</th>\n",
              "    </tr>\n",
              "  </thead>\n",
              "  <tbody>\n",
              "    <tr>\n",
              "      <th>0</th>\n",
              "      <td>0</td>\n",
              "      <td>Resort Hotel</td>\n",
              "      <td>0</td>\n",
              "      <td>342</td>\n",
              "      <td>2015</td>\n",
              "      <td>July</td>\n",
              "      <td>27</td>\n",
              "      <td>1</td>\n",
              "      <td>0</td>\n",
              "      <td>0</td>\n",
              "      <td>2</td>\n",
              "      <td>0.0</td>\n",
              "      <td>0</td>\n",
              "      <td>BB</td>\n",
              "      <td>PRT</td>\n",
              "      <td>Direct</td>\n",
              "      <td>Direct</td>\n",
              "      <td>0</td>\n",
              "      <td>0</td>\n",
              "      <td>0</td>\n",
              "      <td>C</td>\n",
              "      <td>C</td>\n",
              "      <td>3</td>\n",
              "      <td>No Deposit</td>\n",
              "      <td>NaN</td>\n",
              "      <td>NaN</td>\n",
              "      <td>0</td>\n",
              "      <td>Transient</td>\n",
              "      <td>-6.305161</td>\n",
              "      <td>0</td>\n",
              "      <td>0</td>\n",
              "      <td>Check-Out</td>\n",
              "      <td>2015-07-01</td>\n",
              "      <td>0</td>\n",
              "      <td>2.0</td>\n",
              "      <td>-0.000000</td>\n",
              "      <td>2015-07-01</td>\n",
              "    </tr>\n",
              "    <tr>\n",
              "      <th>1</th>\n",
              "      <td>1</td>\n",
              "      <td>City Hotel</td>\n",
              "      <td>0</td>\n",
              "      <td>257</td>\n",
              "      <td>2015</td>\n",
              "      <td>July</td>\n",
              "      <td>27</td>\n",
              "      <td>1</td>\n",
              "      <td>0</td>\n",
              "      <td>2</td>\n",
              "      <td>1</td>\n",
              "      <td>0.0</td>\n",
              "      <td>0</td>\n",
              "      <td>HB</td>\n",
              "      <td>PRT</td>\n",
              "      <td>Offline TA/TO</td>\n",
              "      <td>TA/TO</td>\n",
              "      <td>0</td>\n",
              "      <td>0</td>\n",
              "      <td>0</td>\n",
              "      <td>A</td>\n",
              "      <td>A</td>\n",
              "      <td>1</td>\n",
              "      <td>No Deposit</td>\n",
              "      <td>6.0</td>\n",
              "      <td>NaN</td>\n",
              "      <td>0</td>\n",
              "      <td>Transient</td>\n",
              "      <td>75.052227</td>\n",
              "      <td>0</td>\n",
              "      <td>0</td>\n",
              "      <td>Check-Out</td>\n",
              "      <td>2015-07-03</td>\n",
              "      <td>2</td>\n",
              "      <td>1.0</td>\n",
              "      <td>150.104454</td>\n",
              "      <td>2015-07-01</td>\n",
              "    </tr>\n",
              "    <tr>\n",
              "      <th>2</th>\n",
              "      <td>2</td>\n",
              "      <td>City Hotel</td>\n",
              "      <td>0</td>\n",
              "      <td>257</td>\n",
              "      <td>2015</td>\n",
              "      <td>July</td>\n",
              "      <td>27</td>\n",
              "      <td>1</td>\n",
              "      <td>0</td>\n",
              "      <td>2</td>\n",
              "      <td>2</td>\n",
              "      <td>0.0</td>\n",
              "      <td>0</td>\n",
              "      <td>HB</td>\n",
              "      <td>PRT</td>\n",
              "      <td>Offline TA/TO</td>\n",
              "      <td>TA/TO</td>\n",
              "      <td>0</td>\n",
              "      <td>0</td>\n",
              "      <td>0</td>\n",
              "      <td>A</td>\n",
              "      <td>A</td>\n",
              "      <td>0</td>\n",
              "      <td>No Deposit</td>\n",
              "      <td>6.0</td>\n",
              "      <td>NaN</td>\n",
              "      <td>0</td>\n",
              "      <td>Transient</td>\n",
              "      <td>74.546401</td>\n",
              "      <td>0</td>\n",
              "      <td>0</td>\n",
              "      <td>Check-Out</td>\n",
              "      <td>2015-07-03</td>\n",
              "      <td>2</td>\n",
              "      <td>2.0</td>\n",
              "      <td>149.092802</td>\n",
              "      <td>2015-07-01</td>\n",
              "    </tr>\n",
              "    <tr>\n",
              "      <th>3</th>\n",
              "      <td>3</td>\n",
              "      <td>City Hotel</td>\n",
              "      <td>0</td>\n",
              "      <td>257</td>\n",
              "      <td>2015</td>\n",
              "      <td>July</td>\n",
              "      <td>27</td>\n",
              "      <td>1</td>\n",
              "      <td>0</td>\n",
              "      <td>2</td>\n",
              "      <td>2</td>\n",
              "      <td>0.0</td>\n",
              "      <td>0</td>\n",
              "      <td>HB</td>\n",
              "      <td>PRT</td>\n",
              "      <td>Offline TA/TO</td>\n",
              "      <td>TA/TO</td>\n",
              "      <td>0</td>\n",
              "      <td>0</td>\n",
              "      <td>0</td>\n",
              "      <td>A</td>\n",
              "      <td>A</td>\n",
              "      <td>0</td>\n",
              "      <td>No Deposit</td>\n",
              "      <td>6.0</td>\n",
              "      <td>NaN</td>\n",
              "      <td>0</td>\n",
              "      <td>Transient</td>\n",
              "      <td>76.376288</td>\n",
              "      <td>0</td>\n",
              "      <td>0</td>\n",
              "      <td>Check-Out</td>\n",
              "      <td>2015-07-03</td>\n",
              "      <td>2</td>\n",
              "      <td>2.0</td>\n",
              "      <td>152.752575</td>\n",
              "      <td>2015-07-01</td>\n",
              "    </tr>\n",
              "    <tr>\n",
              "      <th>4</th>\n",
              "      <td>4</td>\n",
              "      <td>City Hotel</td>\n",
              "      <td>0</td>\n",
              "      <td>257</td>\n",
              "      <td>2015</td>\n",
              "      <td>July</td>\n",
              "      <td>27</td>\n",
              "      <td>1</td>\n",
              "      <td>0</td>\n",
              "      <td>2</td>\n",
              "      <td>2</td>\n",
              "      <td>0.0</td>\n",
              "      <td>0</td>\n",
              "      <td>HB</td>\n",
              "      <td>PRT</td>\n",
              "      <td>Offline TA/TO</td>\n",
              "      <td>TA/TO</td>\n",
              "      <td>0</td>\n",
              "      <td>0</td>\n",
              "      <td>0</td>\n",
              "      <td>A</td>\n",
              "      <td>A</td>\n",
              "      <td>0</td>\n",
              "      <td>No Deposit</td>\n",
              "      <td>6.0</td>\n",
              "      <td>NaN</td>\n",
              "      <td>0</td>\n",
              "      <td>Transient</td>\n",
              "      <td>49.411647</td>\n",
              "      <td>0</td>\n",
              "      <td>0</td>\n",
              "      <td>Check-Out</td>\n",
              "      <td>2015-07-03</td>\n",
              "      <td>2</td>\n",
              "      <td>2.0</td>\n",
              "      <td>98.823294</td>\n",
              "      <td>2015-07-01</td>\n",
              "    </tr>\n",
              "  </tbody>\n",
              "</table>\n",
              "</div>"
            ],
            "text/plain": [
              "   ID         hotel  is_canceled  ...  people_num     revenue       date\n",
              "0   0  Resort Hotel            0  ...         2.0   -0.000000 2015-07-01\n",
              "1   1    City Hotel            0  ...         1.0  150.104454 2015-07-01\n",
              "2   2    City Hotel            0  ...         2.0  149.092802 2015-07-01\n",
              "3   3    City Hotel            0  ...         2.0  152.752575 2015-07-01\n",
              "4   4    City Hotel            0  ...         2.0   98.823294 2015-07-01\n",
              "\n",
              "[5 rows x 37 columns]"
            ]
          },
          "metadata": {
            "tags": []
          },
          "execution_count": 13
        }
      ]
    },
    {
      "cell_type": "code",
      "metadata": {
        "id": "69SRnx-hFyp4"
      },
      "source": [
        "test['is_canceled'] = None\n",
        "test['adr'] = None\n",
        "test['reservation_status'] = None\n",
        "test['reservation_status_date'] = None"
      ],
      "execution_count": null,
      "outputs": []
    },
    {
      "cell_type": "code",
      "metadata": {
        "id": "2PCcvCLEow3X"
      },
      "source": [
        "train_column_name = list(train.columns)\n",
        "test = test[train_column_name] # 把 test 的 column 按照 train 做排序"
      ],
      "execution_count": null,
      "outputs": []
    },
    {
      "cell_type": "code",
      "metadata": {
        "colab": {
          "base_uri": "https://localhost:8080/",
          "height": 394
        },
        "id": "4JJXV6gxLRI8",
        "outputId": "678ee87c-c23d-4c0c-c548-fc5e40b39bb4"
      },
      "source": [
        "test.head()"
      ],
      "execution_count": null,
      "outputs": [
        {
          "output_type": "execute_result",
          "data": {
            "text/html": [
              "<div>\n",
              "<style scoped>\n",
              "    .dataframe tbody tr th:only-of-type {\n",
              "        vertical-align: middle;\n",
              "    }\n",
              "\n",
              "    .dataframe tbody tr th {\n",
              "        vertical-align: top;\n",
              "    }\n",
              "\n",
              "    .dataframe thead th {\n",
              "        text-align: right;\n",
              "    }\n",
              "</style>\n",
              "<table border=\"1\" class=\"dataframe\">\n",
              "  <thead>\n",
              "    <tr style=\"text-align: right;\">\n",
              "      <th></th>\n",
              "      <th>ID</th>\n",
              "      <th>hotel</th>\n",
              "      <th>is_canceled</th>\n",
              "      <th>lead_time</th>\n",
              "      <th>arrival_date_year</th>\n",
              "      <th>arrival_date_month</th>\n",
              "      <th>arrival_date_week_number</th>\n",
              "      <th>arrival_date_day_of_month</th>\n",
              "      <th>stays_in_weekend_nights</th>\n",
              "      <th>stays_in_week_nights</th>\n",
              "      <th>adults</th>\n",
              "      <th>children</th>\n",
              "      <th>babies</th>\n",
              "      <th>meal</th>\n",
              "      <th>country</th>\n",
              "      <th>market_segment</th>\n",
              "      <th>distribution_channel</th>\n",
              "      <th>is_repeated_guest</th>\n",
              "      <th>previous_cancellations</th>\n",
              "      <th>previous_bookings_not_canceled</th>\n",
              "      <th>reserved_room_type</th>\n",
              "      <th>assigned_room_type</th>\n",
              "      <th>booking_changes</th>\n",
              "      <th>deposit_type</th>\n",
              "      <th>agent</th>\n",
              "      <th>company</th>\n",
              "      <th>days_in_waiting_list</th>\n",
              "      <th>customer_type</th>\n",
              "      <th>adr</th>\n",
              "      <th>required_car_parking_spaces</th>\n",
              "      <th>total_of_special_requests</th>\n",
              "      <th>reservation_status</th>\n",
              "      <th>reservation_status_date</th>\n",
              "      <th>stays</th>\n",
              "      <th>people_num</th>\n",
              "      <th>revenue</th>\n",
              "      <th>date</th>\n",
              "    </tr>\n",
              "  </thead>\n",
              "  <tbody>\n",
              "    <tr>\n",
              "      <th>0</th>\n",
              "      <td>91531</td>\n",
              "      <td>City Hotel</td>\n",
              "      <td>None</td>\n",
              "      <td>75</td>\n",
              "      <td>2017</td>\n",
              "      <td>April</td>\n",
              "      <td>13</td>\n",
              "      <td>1</td>\n",
              "      <td>2</td>\n",
              "      <td>5</td>\n",
              "      <td>2</td>\n",
              "      <td>0.0</td>\n",
              "      <td>0</td>\n",
              "      <td>BB</td>\n",
              "      <td>DEU</td>\n",
              "      <td>Online TA</td>\n",
              "      <td>TA/TO</td>\n",
              "      <td>0</td>\n",
              "      <td>0</td>\n",
              "      <td>0</td>\n",
              "      <td>D</td>\n",
              "      <td>D</td>\n",
              "      <td>0</td>\n",
              "      <td>No Deposit</td>\n",
              "      <td>9.0</td>\n",
              "      <td>NaN</td>\n",
              "      <td>0</td>\n",
              "      <td>Transient</td>\n",
              "      <td>None</td>\n",
              "      <td>0</td>\n",
              "      <td>1</td>\n",
              "      <td>None</td>\n",
              "      <td>None</td>\n",
              "      <td>7</td>\n",
              "      <td>2.0</td>\n",
              "      <td>None</td>\n",
              "      <td>2017-04-01</td>\n",
              "    </tr>\n",
              "    <tr>\n",
              "      <th>1</th>\n",
              "      <td>91532</td>\n",
              "      <td>City Hotel</td>\n",
              "      <td>None</td>\n",
              "      <td>208</td>\n",
              "      <td>2017</td>\n",
              "      <td>April</td>\n",
              "      <td>13</td>\n",
              "      <td>1</td>\n",
              "      <td>4</td>\n",
              "      <td>10</td>\n",
              "      <td>2</td>\n",
              "      <td>0.0</td>\n",
              "      <td>0</td>\n",
              "      <td>SC</td>\n",
              "      <td>BRA</td>\n",
              "      <td>Online TA</td>\n",
              "      <td>TA/TO</td>\n",
              "      <td>0</td>\n",
              "      <td>0</td>\n",
              "      <td>0</td>\n",
              "      <td>A</td>\n",
              "      <td>A</td>\n",
              "      <td>0</td>\n",
              "      <td>No Deposit</td>\n",
              "      <td>9.0</td>\n",
              "      <td>NaN</td>\n",
              "      <td>0</td>\n",
              "      <td>Transient</td>\n",
              "      <td>None</td>\n",
              "      <td>0</td>\n",
              "      <td>1</td>\n",
              "      <td>None</td>\n",
              "      <td>None</td>\n",
              "      <td>14</td>\n",
              "      <td>2.0</td>\n",
              "      <td>None</td>\n",
              "      <td>2017-04-01</td>\n",
              "    </tr>\n",
              "    <tr>\n",
              "      <th>2</th>\n",
              "      <td>91533</td>\n",
              "      <td>Resort Hotel</td>\n",
              "      <td>None</td>\n",
              "      <td>12</td>\n",
              "      <td>2017</td>\n",
              "      <td>April</td>\n",
              "      <td>13</td>\n",
              "      <td>1</td>\n",
              "      <td>2</td>\n",
              "      <td>5</td>\n",
              "      <td>2</td>\n",
              "      <td>0.0</td>\n",
              "      <td>0</td>\n",
              "      <td>Undefined</td>\n",
              "      <td>PRT</td>\n",
              "      <td>Offline TA/TO</td>\n",
              "      <td>TA/TO</td>\n",
              "      <td>0</td>\n",
              "      <td>0</td>\n",
              "      <td>0</td>\n",
              "      <td>A</td>\n",
              "      <td>A</td>\n",
              "      <td>0</td>\n",
              "      <td>No Deposit</td>\n",
              "      <td>40.0</td>\n",
              "      <td>NaN</td>\n",
              "      <td>0</td>\n",
              "      <td>Contract</td>\n",
              "      <td>None</td>\n",
              "      <td>0</td>\n",
              "      <td>1</td>\n",
              "      <td>None</td>\n",
              "      <td>None</td>\n",
              "      <td>7</td>\n",
              "      <td>2.0</td>\n",
              "      <td>None</td>\n",
              "      <td>2017-04-01</td>\n",
              "    </tr>\n",
              "    <tr>\n",
              "      <th>3</th>\n",
              "      <td>91534</td>\n",
              "      <td>City Hotel</td>\n",
              "      <td>None</td>\n",
              "      <td>76</td>\n",
              "      <td>2017</td>\n",
              "      <td>April</td>\n",
              "      <td>13</td>\n",
              "      <td>1</td>\n",
              "      <td>2</td>\n",
              "      <td>5</td>\n",
              "      <td>3</td>\n",
              "      <td>0.0</td>\n",
              "      <td>0</td>\n",
              "      <td>BB</td>\n",
              "      <td>BEL</td>\n",
              "      <td>Online TA</td>\n",
              "      <td>TA/TO</td>\n",
              "      <td>0</td>\n",
              "      <td>0</td>\n",
              "      <td>0</td>\n",
              "      <td>D</td>\n",
              "      <td>D</td>\n",
              "      <td>0</td>\n",
              "      <td>No Deposit</td>\n",
              "      <td>9.0</td>\n",
              "      <td>NaN</td>\n",
              "      <td>0</td>\n",
              "      <td>Transient</td>\n",
              "      <td>None</td>\n",
              "      <td>0</td>\n",
              "      <td>0</td>\n",
              "      <td>None</td>\n",
              "      <td>None</td>\n",
              "      <td>7</td>\n",
              "      <td>3.0</td>\n",
              "      <td>None</td>\n",
              "      <td>2017-04-01</td>\n",
              "    </tr>\n",
              "    <tr>\n",
              "      <th>4</th>\n",
              "      <td>91535</td>\n",
              "      <td>City Hotel</td>\n",
              "      <td>None</td>\n",
              "      <td>9</td>\n",
              "      <td>2017</td>\n",
              "      <td>April</td>\n",
              "      <td>13</td>\n",
              "      <td>1</td>\n",
              "      <td>2</td>\n",
              "      <td>4</td>\n",
              "      <td>2</td>\n",
              "      <td>2.0</td>\n",
              "      <td>0</td>\n",
              "      <td>BB</td>\n",
              "      <td>FRA</td>\n",
              "      <td>Online TA</td>\n",
              "      <td>TA/TO</td>\n",
              "      <td>0</td>\n",
              "      <td>0</td>\n",
              "      <td>0</td>\n",
              "      <td>F</td>\n",
              "      <td>F</td>\n",
              "      <td>0</td>\n",
              "      <td>No Deposit</td>\n",
              "      <td>9.0</td>\n",
              "      <td>NaN</td>\n",
              "      <td>0</td>\n",
              "      <td>Transient</td>\n",
              "      <td>None</td>\n",
              "      <td>0</td>\n",
              "      <td>0</td>\n",
              "      <td>None</td>\n",
              "      <td>None</td>\n",
              "      <td>6</td>\n",
              "      <td>4.0</td>\n",
              "      <td>None</td>\n",
              "      <td>2017-04-01</td>\n",
              "    </tr>\n",
              "  </tbody>\n",
              "</table>\n",
              "</div>"
            ],
            "text/plain": [
              "      ID         hotel is_canceled  ...  people_num  revenue       date\n",
              "0  91531    City Hotel        None  ...         2.0     None 2017-04-01\n",
              "1  91532    City Hotel        None  ...         2.0     None 2017-04-01\n",
              "2  91533  Resort Hotel        None  ...         2.0     None 2017-04-01\n",
              "3  91534    City Hotel        None  ...         3.0     None 2017-04-01\n",
              "4  91535    City Hotel        None  ...         4.0     None 2017-04-01\n",
              "\n",
              "[5 rows x 37 columns]"
            ]
          },
          "metadata": {
            "tags": []
          },
          "execution_count": 16
        }
      ]
    },
    {
      "cell_type": "code",
      "metadata": {
        "id": "n1VWJ2ayMkIr"
      },
      "source": [
        "train_test = pd.concat([train, test], axis= 0) # 一起處理才不會遺漏類別變數"
      ],
      "execution_count": null,
      "outputs": []
    },
    {
      "cell_type": "code",
      "metadata": {
        "id": "k0FHP8limttQ"
      },
      "source": [
        "train_test.index = range(len(train_test)) # 重新編號"
      ],
      "execution_count": null,
      "outputs": []
    },
    {
      "cell_type": "code",
      "metadata": {
        "colab": {
          "base_uri": "https://localhost:8080/",
          "height": 309
        },
        "id": "uhoHLYpL-vbQ",
        "outputId": "78939ea7-d33d-4e34-8d8d-21435490eee0"
      },
      "source": [
        "train_test.head()"
      ],
      "execution_count": null,
      "outputs": [
        {
          "output_type": "execute_result",
          "data": {
            "text/html": [
              "<div>\n",
              "<style scoped>\n",
              "    .dataframe tbody tr th:only-of-type {\n",
              "        vertical-align: middle;\n",
              "    }\n",
              "\n",
              "    .dataframe tbody tr th {\n",
              "        vertical-align: top;\n",
              "    }\n",
              "\n",
              "    .dataframe thead th {\n",
              "        text-align: right;\n",
              "    }\n",
              "</style>\n",
              "<table border=\"1\" class=\"dataframe\">\n",
              "  <thead>\n",
              "    <tr style=\"text-align: right;\">\n",
              "      <th></th>\n",
              "      <th>ID</th>\n",
              "      <th>hotel</th>\n",
              "      <th>is_canceled</th>\n",
              "      <th>lead_time</th>\n",
              "      <th>arrival_date_year</th>\n",
              "      <th>arrival_date_month</th>\n",
              "      <th>arrival_date_week_number</th>\n",
              "      <th>arrival_date_day_of_month</th>\n",
              "      <th>stays_in_weekend_nights</th>\n",
              "      <th>stays_in_week_nights</th>\n",
              "      <th>adults</th>\n",
              "      <th>children</th>\n",
              "      <th>babies</th>\n",
              "      <th>meal</th>\n",
              "      <th>country</th>\n",
              "      <th>market_segment</th>\n",
              "      <th>distribution_channel</th>\n",
              "      <th>is_repeated_guest</th>\n",
              "      <th>previous_cancellations</th>\n",
              "      <th>previous_bookings_not_canceled</th>\n",
              "      <th>reserved_room_type</th>\n",
              "      <th>assigned_room_type</th>\n",
              "      <th>booking_changes</th>\n",
              "      <th>deposit_type</th>\n",
              "      <th>agent</th>\n",
              "      <th>company</th>\n",
              "      <th>days_in_waiting_list</th>\n",
              "      <th>customer_type</th>\n",
              "      <th>adr</th>\n",
              "      <th>required_car_parking_spaces</th>\n",
              "      <th>total_of_special_requests</th>\n",
              "      <th>reservation_status</th>\n",
              "      <th>reservation_status_date</th>\n",
              "      <th>stays</th>\n",
              "      <th>people_num</th>\n",
              "      <th>revenue</th>\n",
              "      <th>date</th>\n",
              "    </tr>\n",
              "  </thead>\n",
              "  <tbody>\n",
              "    <tr>\n",
              "      <th>0</th>\n",
              "      <td>0</td>\n",
              "      <td>Resort Hotel</td>\n",
              "      <td>0</td>\n",
              "      <td>342</td>\n",
              "      <td>2015</td>\n",
              "      <td>July</td>\n",
              "      <td>27</td>\n",
              "      <td>1</td>\n",
              "      <td>0</td>\n",
              "      <td>0</td>\n",
              "      <td>2</td>\n",
              "      <td>0.0</td>\n",
              "      <td>0</td>\n",
              "      <td>BB</td>\n",
              "      <td>PRT</td>\n",
              "      <td>Direct</td>\n",
              "      <td>Direct</td>\n",
              "      <td>0</td>\n",
              "      <td>0</td>\n",
              "      <td>0</td>\n",
              "      <td>C</td>\n",
              "      <td>C</td>\n",
              "      <td>3</td>\n",
              "      <td>No Deposit</td>\n",
              "      <td>NaN</td>\n",
              "      <td>NaN</td>\n",
              "      <td>0</td>\n",
              "      <td>Transient</td>\n",
              "      <td>-6.30516</td>\n",
              "      <td>0</td>\n",
              "      <td>0</td>\n",
              "      <td>Check-Out</td>\n",
              "      <td>2015-07-01</td>\n",
              "      <td>0</td>\n",
              "      <td>2.0</td>\n",
              "      <td>-0</td>\n",
              "      <td>2015-07-01</td>\n",
              "    </tr>\n",
              "    <tr>\n",
              "      <th>1</th>\n",
              "      <td>1</td>\n",
              "      <td>City Hotel</td>\n",
              "      <td>0</td>\n",
              "      <td>257</td>\n",
              "      <td>2015</td>\n",
              "      <td>July</td>\n",
              "      <td>27</td>\n",
              "      <td>1</td>\n",
              "      <td>0</td>\n",
              "      <td>2</td>\n",
              "      <td>1</td>\n",
              "      <td>0.0</td>\n",
              "      <td>0</td>\n",
              "      <td>HB</td>\n",
              "      <td>PRT</td>\n",
              "      <td>Offline TA/TO</td>\n",
              "      <td>TA/TO</td>\n",
              "      <td>0</td>\n",
              "      <td>0</td>\n",
              "      <td>0</td>\n",
              "      <td>A</td>\n",
              "      <td>A</td>\n",
              "      <td>1</td>\n",
              "      <td>No Deposit</td>\n",
              "      <td>6.0</td>\n",
              "      <td>NaN</td>\n",
              "      <td>0</td>\n",
              "      <td>Transient</td>\n",
              "      <td>75.0522</td>\n",
              "      <td>0</td>\n",
              "      <td>0</td>\n",
              "      <td>Check-Out</td>\n",
              "      <td>2015-07-03</td>\n",
              "      <td>2</td>\n",
              "      <td>1.0</td>\n",
              "      <td>150.104</td>\n",
              "      <td>2015-07-01</td>\n",
              "    </tr>\n",
              "    <tr>\n",
              "      <th>2</th>\n",
              "      <td>2</td>\n",
              "      <td>City Hotel</td>\n",
              "      <td>0</td>\n",
              "      <td>257</td>\n",
              "      <td>2015</td>\n",
              "      <td>July</td>\n",
              "      <td>27</td>\n",
              "      <td>1</td>\n",
              "      <td>0</td>\n",
              "      <td>2</td>\n",
              "      <td>2</td>\n",
              "      <td>0.0</td>\n",
              "      <td>0</td>\n",
              "      <td>HB</td>\n",
              "      <td>PRT</td>\n",
              "      <td>Offline TA/TO</td>\n",
              "      <td>TA/TO</td>\n",
              "      <td>0</td>\n",
              "      <td>0</td>\n",
              "      <td>0</td>\n",
              "      <td>A</td>\n",
              "      <td>A</td>\n",
              "      <td>0</td>\n",
              "      <td>No Deposit</td>\n",
              "      <td>6.0</td>\n",
              "      <td>NaN</td>\n",
              "      <td>0</td>\n",
              "      <td>Transient</td>\n",
              "      <td>74.5464</td>\n",
              "      <td>0</td>\n",
              "      <td>0</td>\n",
              "      <td>Check-Out</td>\n",
              "      <td>2015-07-03</td>\n",
              "      <td>2</td>\n",
              "      <td>2.0</td>\n",
              "      <td>149.093</td>\n",
              "      <td>2015-07-01</td>\n",
              "    </tr>\n",
              "    <tr>\n",
              "      <th>3</th>\n",
              "      <td>3</td>\n",
              "      <td>City Hotel</td>\n",
              "      <td>0</td>\n",
              "      <td>257</td>\n",
              "      <td>2015</td>\n",
              "      <td>July</td>\n",
              "      <td>27</td>\n",
              "      <td>1</td>\n",
              "      <td>0</td>\n",
              "      <td>2</td>\n",
              "      <td>2</td>\n",
              "      <td>0.0</td>\n",
              "      <td>0</td>\n",
              "      <td>HB</td>\n",
              "      <td>PRT</td>\n",
              "      <td>Offline TA/TO</td>\n",
              "      <td>TA/TO</td>\n",
              "      <td>0</td>\n",
              "      <td>0</td>\n",
              "      <td>0</td>\n",
              "      <td>A</td>\n",
              "      <td>A</td>\n",
              "      <td>0</td>\n",
              "      <td>No Deposit</td>\n",
              "      <td>6.0</td>\n",
              "      <td>NaN</td>\n",
              "      <td>0</td>\n",
              "      <td>Transient</td>\n",
              "      <td>76.3763</td>\n",
              "      <td>0</td>\n",
              "      <td>0</td>\n",
              "      <td>Check-Out</td>\n",
              "      <td>2015-07-03</td>\n",
              "      <td>2</td>\n",
              "      <td>2.0</td>\n",
              "      <td>152.753</td>\n",
              "      <td>2015-07-01</td>\n",
              "    </tr>\n",
              "    <tr>\n",
              "      <th>4</th>\n",
              "      <td>4</td>\n",
              "      <td>City Hotel</td>\n",
              "      <td>0</td>\n",
              "      <td>257</td>\n",
              "      <td>2015</td>\n",
              "      <td>July</td>\n",
              "      <td>27</td>\n",
              "      <td>1</td>\n",
              "      <td>0</td>\n",
              "      <td>2</td>\n",
              "      <td>2</td>\n",
              "      <td>0.0</td>\n",
              "      <td>0</td>\n",
              "      <td>HB</td>\n",
              "      <td>PRT</td>\n",
              "      <td>Offline TA/TO</td>\n",
              "      <td>TA/TO</td>\n",
              "      <td>0</td>\n",
              "      <td>0</td>\n",
              "      <td>0</td>\n",
              "      <td>A</td>\n",
              "      <td>A</td>\n",
              "      <td>0</td>\n",
              "      <td>No Deposit</td>\n",
              "      <td>6.0</td>\n",
              "      <td>NaN</td>\n",
              "      <td>0</td>\n",
              "      <td>Transient</td>\n",
              "      <td>49.4116</td>\n",
              "      <td>0</td>\n",
              "      <td>0</td>\n",
              "      <td>Check-Out</td>\n",
              "      <td>2015-07-03</td>\n",
              "      <td>2</td>\n",
              "      <td>2.0</td>\n",
              "      <td>98.8233</td>\n",
              "      <td>2015-07-01</td>\n",
              "    </tr>\n",
              "  </tbody>\n",
              "</table>\n",
              "</div>"
            ],
            "text/plain": [
              "   ID         hotel is_canceled  ...  people_num  revenue       date\n",
              "0   0  Resort Hotel           0  ...         2.0       -0 2015-07-01\n",
              "1   1    City Hotel           0  ...         1.0  150.104 2015-07-01\n",
              "2   2    City Hotel           0  ...         2.0  149.093 2015-07-01\n",
              "3   3    City Hotel           0  ...         2.0  152.753 2015-07-01\n",
              "4   4    City Hotel           0  ...         2.0  98.8233 2015-07-01\n",
              "\n",
              "[5 rows x 37 columns]"
            ]
          },
          "metadata": {
            "tags": []
          },
          "execution_count": 19
        }
      ]
    },
    {
      "cell_type": "markdown",
      "metadata": {
        "id": "IfQ6qRhPqLY6"
      },
      "source": [
        "### One-hot Encoding"
      ]
    },
    {
      "cell_type": "code",
      "metadata": {
        "id": "ABnJssU9Nd_R"
      },
      "source": [
        "hotel = pd.get_dummies(train_test['hotel'])\n",
        "train_test = train_test.join(hotel)\n",
        "train_test = train_test.drop(columns=['hotel'])"
      ],
      "execution_count": null,
      "outputs": []
    },
    {
      "cell_type": "code",
      "metadata": {
        "id": "PJZYBBWy_Yh8"
      },
      "source": [
        "# 在 testing data 中，只有 2017/4/1 後的資料\n",
        "train_test = train_test.drop(columns=['arrival_date_year'])\n",
        "train_test = train_test.drop(columns=['arrival_date_month']) \n",
        "# train_test = train_test.drop(columns=['arrival_date_week_number'])\n",
        "\n",
        "# train_test['arrival_date_month'].replace({'January':1, \n",
        "#                                           'February':2, \n",
        "#                                           'March':3, \n",
        "#                                           'April':4, \n",
        "#                                           'May':5, \n",
        "#                                           'June':6,\n",
        "#                                           'July':7,\n",
        "#                                           'August':8,\n",
        "#                                           'September':9,\n",
        "#                                           'October':10,\n",
        "#                                           'November':11,\n",
        "#                                           'December':12,}, inplace=True)"
      ],
      "execution_count": null,
      "outputs": []
    },
    {
      "cell_type": "code",
      "metadata": {
        "id": "tsbaD2CezZO5"
      },
      "source": [
        "meal = pd.get_dummies(train_test['meal'])\n",
        "meal.columns = ['meal BB',\n",
        "                'meal FB',\n",
        "                'meal HB',\n",
        "                'meal SC',\n",
        "                'meal Undefined']\n",
        "\n",
        "train_test = train_test.join(meal)\n",
        "train_test = train_test.drop(columns=['meal']) "
      ],
      "execution_count": null,
      "outputs": []
    },
    {
      "cell_type": "code",
      "metadata": {
        "id": "n4A6CbQF0qAR"
      },
      "source": [
        "country = pd.get_dummies(train_test['country'])\n",
        "train_test = train_test.join(country)\n",
        "train_test = train_test.drop(columns=['country']) "
      ],
      "execution_count": null,
      "outputs": []
    },
    {
      "cell_type": "code",
      "metadata": {
        "id": "MAetfzWp0qIt"
      },
      "source": [
        "market_segment = pd.get_dummies(train_test['market_segment'])\n",
        "market_segment.columns = ['market_segment Aviation', \n",
        "                  'market_segment Complementary', \n",
        "                  'market_segment Corporate', \n",
        "                  'market_segment Direct', \n",
        "                  'market_segment Groups',\n",
        "                  'market_segment Offline TA/TO', \n",
        "                  'market_segment Online TA', \n",
        "                  'market_segment Undefined']\n",
        "train_test = train_test.join(market_segment)\n",
        "train_test = train_test.drop(columns=['market_segment']) "
      ],
      "execution_count": null,
      "outputs": []
    },
    {
      "cell_type": "code",
      "metadata": {
        "id": "sqAUIX_H1ED4"
      },
      "source": [
        "distribution_channel = pd.get_dummies(train_test['distribution_channel'])\n",
        "distribution_channel.columns = ['distribution_channel Corporate', \n",
        "                                'distribution_channel Direct', \n",
        "                                'distribution_channel GDS', \n",
        "                                'distribution_channel TA/TO', \n",
        "                                'distribution_channel Undefined']\n",
        "train_test = train_test.join(distribution_channel)\n",
        "train_test = train_test.drop(columns=['distribution_channel']) "
      ],
      "execution_count": null,
      "outputs": []
    },
    {
      "cell_type": "code",
      "metadata": {
        "colab": {
          "base_uri": "https://localhost:8080/"
        },
        "id": "bKKinaGo2aZb",
        "outputId": "3a92099e-9e34-4fc3-c4ca-8bffe4e50c9a"
      },
      "source": [
        "train_test['reserved_room_type'] == train_test['assigned_room_type']"
      ],
      "execution_count": null,
      "outputs": [
        {
          "output_type": "execute_result",
          "data": {
            "text/plain": [
              "0         True\n",
              "1         True\n",
              "2         True\n",
              "3         True\n",
              "4         True\n",
              "          ... \n",
              "119385    True\n",
              "119386    True\n",
              "119387    True\n",
              "119388    True\n",
              "119389    True\n",
              "Length: 119390, dtype: bool"
            ]
          },
          "metadata": {
            "tags": []
          },
          "execution_count": 26
        }
      ]
    },
    {
      "cell_type": "code",
      "metadata": {
        "id": "dOMmlWDX2nIN"
      },
      "source": [
        "train_test['assign_reserved_same'] = train_test['reserved_room_type'] == train_test['assigned_room_type']"
      ],
      "execution_count": null,
      "outputs": []
    },
    {
      "cell_type": "code",
      "metadata": {
        "colab": {
          "base_uri": "https://localhost:8080/"
        },
        "id": "PkYM2PMt2shF",
        "outputId": "aa616a47-46d4-4c5b-8ad2-29222e6c4e7e"
      },
      "source": [
        "train_test['assign_reserved_same'].replace({True:1, False:0})"
      ],
      "execution_count": null,
      "outputs": [
        {
          "output_type": "execute_result",
          "data": {
            "text/plain": [
              "0         1\n",
              "1         1\n",
              "2         1\n",
              "3         1\n",
              "4         1\n",
              "         ..\n",
              "119385    1\n",
              "119386    1\n",
              "119387    1\n",
              "119388    1\n",
              "119389    1\n",
              "Name: assign_reserved_same, Length: 119390, dtype: int64"
            ]
          },
          "metadata": {
            "tags": []
          },
          "execution_count": 28
        }
      ]
    },
    {
      "cell_type": "code",
      "metadata": {
        "id": "rD1uTWvr2x57"
      },
      "source": [
        "reserved_room_type = pd.get_dummies(train_test['reserved_room_type'])\n",
        "reserved_room_type.columns = ['reserved_room_type A',\n",
        "                              'reserved_room_type B',\n",
        "                              'reserved_room_type C',\n",
        "                              'reserved_room_type D',\n",
        "                              'reserved_room_type E',\n",
        "                              'reserved_room_type F',\n",
        "                              'reserved_room_type G',\n",
        "                              'reserved_room_type H',\n",
        "                              'reserved_room_type L',\n",
        "                              'reserved_room_type P']\n",
        "train_test = train_test.join(reserved_room_type)\n",
        "train_test = train_test.drop(columns=['reserved_room_type'])"
      ],
      "execution_count": null,
      "outputs": []
    },
    {
      "cell_type": "code",
      "metadata": {
        "id": "ISBwYaBE6Qew"
      },
      "source": [
        "assigned_room_type = pd.get_dummies(train_test['assigned_room_type'])\n",
        "assigned_room_type.columns = ['assigned_room_type A',\n",
        "                              'assigned_room_type B',\n",
        "                              'assigned_room_type C',\n",
        "                              'assigned_room_type D',\n",
        "                              'assigned_room_type E',\n",
        "                              'assigned_room_type F',\n",
        "                              'assigned_room_type G',\n",
        "                              'assigned_room_type H',\n",
        "                              'assigned_room_type I',\n",
        "                              'assigned_room_type K',\n",
        "                              'assigned_room_type L',\n",
        "                              'assigned_room_type P']\n",
        "train_test = train_test.join(assigned_room_type)\n",
        "train_test = train_test.drop(columns=['assigned_room_type'])"
      ],
      "execution_count": null,
      "outputs": []
    },
    {
      "cell_type": "code",
      "metadata": {
        "id": "S3khouhT7KFl"
      },
      "source": [
        "deposit_type = pd.get_dummies(train_test['deposit_type'])\n",
        "\n",
        "train_test = train_test.join(deposit_type)\n",
        "train_test = train_test.drop(columns=['deposit_type']) # 有 Deposit 的幾乎都不可退，但可退費與否將影響取消率，因此保留 Non Refund 及 Refundable"
      ],
      "execution_count": null,
      "outputs": []
    },
    {
      "cell_type": "code",
      "metadata": {
        "id": "Q6s4oeiy7KRy"
      },
      "source": [
        "# train_test['agent'].loc[train_test['agent'].isna()] = 'None'\n",
        "# train_test['agent'].loc[train_test['agent'].isin([9, 'None']) == False] = \"Other\"\n",
        "\n",
        "agent = pd.get_dummies(train_test['agent'])\n",
        "# agent.columns = ['agent 9', \n",
        "#                  'agent None',\n",
        "#                  'agent other',]\n",
        "train_test = train_test.join(agent)\n",
        "train_test = train_test.drop(columns=['agent'])"
      ],
      "execution_count": null,
      "outputs": []
    },
    {
      "cell_type": "code",
      "metadata": {
        "id": "cafK3kI799H2"
      },
      "source": [
        "# train_test['company'].loc[train_test['company'].isna()] = 'None'\n",
        "# train_test['company'].loc[train_test['company'].isin([40, 'None']) == False] = \"Other\"\n",
        "\n",
        "# company = pd.get_dummies(train_test['company'])\n",
        "# # company_columns = list(company.columns)\n",
        "# # for i, company_column in enumerate(company_columns):\n",
        "# #   company_columns[i] = 'company' + str(company_column)\n",
        "# # company.columns = company_columns\n",
        "# company.columns = ['company 40', \n",
        "#                    'company None',\n",
        "#                    'company other',]\n",
        "# train_test = train_test.join(company)\n",
        "train_test = train_test.drop(columns=['company'])"
      ],
      "execution_count": null,
      "outputs": []
    },
    {
      "cell_type": "code",
      "metadata": {
        "id": "uN7L2mS199TU"
      },
      "source": [
        "customer_type = pd.get_dummies(train_test['customer_type'])\n",
        "customer_type.columns = ['customer_type Contract', \n",
        "                         'customer_type Group', \n",
        "                         'customer_type Transient', \n",
        "                         'customer_type Transient-Party']\n",
        "train_test = train_test.join(customer_type)\n",
        "train_test = train_test.drop(columns=['customer_type'])"
      ],
      "execution_count": null,
      "outputs": []
    },
    {
      "cell_type": "markdown",
      "metadata": {
        "id": "B23A4PDOvcfQ"
      },
      "source": [
        "### Normalization"
      ]
    },
    {
      "cell_type": "code",
      "metadata": {
        "id": "Jr3nEZNkvgFP"
      },
      "source": [
        "from sklearn.preprocessing import StandardScaler"
      ],
      "execution_count": null,
      "outputs": []
    },
    {
      "cell_type": "code",
      "metadata": {
        "id": "eS61gYQHvp9E"
      },
      "source": [
        "train_test_date = train_test['date']\n",
        "train_test = train_test.drop(columns=['ID', 'revenue', 'reservation_status', 'reservation_status_date', 'date'])"
      ],
      "execution_count": null,
      "outputs": []
    },
    {
      "cell_type": "code",
      "metadata": {
        "id": "ez_M3BxevzPt"
      },
      "source": [
        "train_test_x = train_test.drop(columns=['is_canceled', 'adr'])\n",
        "\n",
        "# 2 個模型有不同的 y\n",
        "train_test_is_canceled_y = train_test['is_canceled']\n",
        "train_test_adr_y = train_test['adr']"
      ],
      "execution_count": null,
      "outputs": []
    },
    {
      "cell_type": "code",
      "metadata": {
        "colab": {
          "base_uri": "https://localhost:8080/",
          "height": 287
        },
        "id": "wLdzYeeVvzSl",
        "outputId": "0e1c8fda-333f-4989-fdf8-dbc911d1dfd4"
      },
      "source": [
        "train_test_x.head()"
      ],
      "execution_count": null,
      "outputs": [
        {
          "output_type": "execute_result",
          "data": {
            "text/html": [
              "<div>\n",
              "<style scoped>\n",
              "    .dataframe tbody tr th:only-of-type {\n",
              "        vertical-align: middle;\n",
              "    }\n",
              "\n",
              "    .dataframe tbody tr th {\n",
              "        vertical-align: top;\n",
              "    }\n",
              "\n",
              "    .dataframe thead th {\n",
              "        text-align: right;\n",
              "    }\n",
              "</style>\n",
              "<table border=\"1\" class=\"dataframe\">\n",
              "  <thead>\n",
              "    <tr style=\"text-align: right;\">\n",
              "      <th></th>\n",
              "      <th>lead_time</th>\n",
              "      <th>arrival_date_week_number</th>\n",
              "      <th>arrival_date_day_of_month</th>\n",
              "      <th>stays_in_weekend_nights</th>\n",
              "      <th>stays_in_week_nights</th>\n",
              "      <th>adults</th>\n",
              "      <th>children</th>\n",
              "      <th>babies</th>\n",
              "      <th>is_repeated_guest</th>\n",
              "      <th>previous_cancellations</th>\n",
              "      <th>previous_bookings_not_canceled</th>\n",
              "      <th>booking_changes</th>\n",
              "      <th>days_in_waiting_list</th>\n",
              "      <th>required_car_parking_spaces</th>\n",
              "      <th>total_of_special_requests</th>\n",
              "      <th>stays</th>\n",
              "      <th>people_num</th>\n",
              "      <th>City Hotel</th>\n",
              "      <th>Resort Hotel</th>\n",
              "      <th>meal BB</th>\n",
              "      <th>meal FB</th>\n",
              "      <th>meal HB</th>\n",
              "      <th>meal SC</th>\n",
              "      <th>meal Undefined</th>\n",
              "      <th>ABW</th>\n",
              "      <th>AGO</th>\n",
              "      <th>AIA</th>\n",
              "      <th>ALB</th>\n",
              "      <th>AND</th>\n",
              "      <th>ARE</th>\n",
              "      <th>ARG</th>\n",
              "      <th>ARM</th>\n",
              "      <th>ASM</th>\n",
              "      <th>ATA</th>\n",
              "      <th>ATF</th>\n",
              "      <th>AUS</th>\n",
              "      <th>AUT</th>\n",
              "      <th>AZE</th>\n",
              "      <th>BDI</th>\n",
              "      <th>BEL</th>\n",
              "      <th>...</th>\n",
              "      <th>441.0</th>\n",
              "      <th>444.0</th>\n",
              "      <th>446.0</th>\n",
              "      <th>449.0</th>\n",
              "      <th>450.0</th>\n",
              "      <th>451.0</th>\n",
              "      <th>453.0</th>\n",
              "      <th>454.0</th>\n",
              "      <th>455.0</th>\n",
              "      <th>459.0</th>\n",
              "      <th>461.0</th>\n",
              "      <th>464.0</th>\n",
              "      <th>467.0</th>\n",
              "      <th>468.0</th>\n",
              "      <th>469.0</th>\n",
              "      <th>472.0</th>\n",
              "      <th>474.0</th>\n",
              "      <th>475.0</th>\n",
              "      <th>476.0</th>\n",
              "      <th>479.0</th>\n",
              "      <th>480.0</th>\n",
              "      <th>481.0</th>\n",
              "      <th>483.0</th>\n",
              "      <th>484.0</th>\n",
              "      <th>492.0</th>\n",
              "      <th>493.0</th>\n",
              "      <th>495.0</th>\n",
              "      <th>497.0</th>\n",
              "      <th>502.0</th>\n",
              "      <th>508.0</th>\n",
              "      <th>509.0</th>\n",
              "      <th>510.0</th>\n",
              "      <th>526.0</th>\n",
              "      <th>527.0</th>\n",
              "      <th>531.0</th>\n",
              "      <th>535.0</th>\n",
              "      <th>customer_type Contract</th>\n",
              "      <th>customer_type Group</th>\n",
              "      <th>customer_type Transient</th>\n",
              "      <th>customer_type Transient-Party</th>\n",
              "    </tr>\n",
              "  </thead>\n",
              "  <tbody>\n",
              "    <tr>\n",
              "      <th>0</th>\n",
              "      <td>342</td>\n",
              "      <td>27</td>\n",
              "      <td>1</td>\n",
              "      <td>0</td>\n",
              "      <td>0</td>\n",
              "      <td>2</td>\n",
              "      <td>0.0</td>\n",
              "      <td>0</td>\n",
              "      <td>0</td>\n",
              "      <td>0</td>\n",
              "      <td>0</td>\n",
              "      <td>3</td>\n",
              "      <td>0</td>\n",
              "      <td>0</td>\n",
              "      <td>0</td>\n",
              "      <td>0</td>\n",
              "      <td>2.0</td>\n",
              "      <td>0</td>\n",
              "      <td>1</td>\n",
              "      <td>1</td>\n",
              "      <td>0</td>\n",
              "      <td>0</td>\n",
              "      <td>0</td>\n",
              "      <td>0</td>\n",
              "      <td>0</td>\n",
              "      <td>0</td>\n",
              "      <td>0</td>\n",
              "      <td>0</td>\n",
              "      <td>0</td>\n",
              "      <td>0</td>\n",
              "      <td>0</td>\n",
              "      <td>0</td>\n",
              "      <td>0</td>\n",
              "      <td>0</td>\n",
              "      <td>0</td>\n",
              "      <td>0</td>\n",
              "      <td>0</td>\n",
              "      <td>0</td>\n",
              "      <td>0</td>\n",
              "      <td>0</td>\n",
              "      <td>...</td>\n",
              "      <td>0</td>\n",
              "      <td>0</td>\n",
              "      <td>0</td>\n",
              "      <td>0</td>\n",
              "      <td>0</td>\n",
              "      <td>0</td>\n",
              "      <td>0</td>\n",
              "      <td>0</td>\n",
              "      <td>0</td>\n",
              "      <td>0</td>\n",
              "      <td>0</td>\n",
              "      <td>0</td>\n",
              "      <td>0</td>\n",
              "      <td>0</td>\n",
              "      <td>0</td>\n",
              "      <td>0</td>\n",
              "      <td>0</td>\n",
              "      <td>0</td>\n",
              "      <td>0</td>\n",
              "      <td>0</td>\n",
              "      <td>0</td>\n",
              "      <td>0</td>\n",
              "      <td>0</td>\n",
              "      <td>0</td>\n",
              "      <td>0</td>\n",
              "      <td>0</td>\n",
              "      <td>0</td>\n",
              "      <td>0</td>\n",
              "      <td>0</td>\n",
              "      <td>0</td>\n",
              "      <td>0</td>\n",
              "      <td>0</td>\n",
              "      <td>0</td>\n",
              "      <td>0</td>\n",
              "      <td>0</td>\n",
              "      <td>0</td>\n",
              "      <td>0</td>\n",
              "      <td>0</td>\n",
              "      <td>1</td>\n",
              "      <td>0</td>\n",
              "    </tr>\n",
              "    <tr>\n",
              "      <th>1</th>\n",
              "      <td>257</td>\n",
              "      <td>27</td>\n",
              "      <td>1</td>\n",
              "      <td>0</td>\n",
              "      <td>2</td>\n",
              "      <td>1</td>\n",
              "      <td>0.0</td>\n",
              "      <td>0</td>\n",
              "      <td>0</td>\n",
              "      <td>0</td>\n",
              "      <td>0</td>\n",
              "      <td>1</td>\n",
              "      <td>0</td>\n",
              "      <td>0</td>\n",
              "      <td>0</td>\n",
              "      <td>2</td>\n",
              "      <td>1.0</td>\n",
              "      <td>1</td>\n",
              "      <td>0</td>\n",
              "      <td>0</td>\n",
              "      <td>0</td>\n",
              "      <td>1</td>\n",
              "      <td>0</td>\n",
              "      <td>0</td>\n",
              "      <td>0</td>\n",
              "      <td>0</td>\n",
              "      <td>0</td>\n",
              "      <td>0</td>\n",
              "      <td>0</td>\n",
              "      <td>0</td>\n",
              "      <td>0</td>\n",
              "      <td>0</td>\n",
              "      <td>0</td>\n",
              "      <td>0</td>\n",
              "      <td>0</td>\n",
              "      <td>0</td>\n",
              "      <td>0</td>\n",
              "      <td>0</td>\n",
              "      <td>0</td>\n",
              "      <td>0</td>\n",
              "      <td>...</td>\n",
              "      <td>0</td>\n",
              "      <td>0</td>\n",
              "      <td>0</td>\n",
              "      <td>0</td>\n",
              "      <td>0</td>\n",
              "      <td>0</td>\n",
              "      <td>0</td>\n",
              "      <td>0</td>\n",
              "      <td>0</td>\n",
              "      <td>0</td>\n",
              "      <td>0</td>\n",
              "      <td>0</td>\n",
              "      <td>0</td>\n",
              "      <td>0</td>\n",
              "      <td>0</td>\n",
              "      <td>0</td>\n",
              "      <td>0</td>\n",
              "      <td>0</td>\n",
              "      <td>0</td>\n",
              "      <td>0</td>\n",
              "      <td>0</td>\n",
              "      <td>0</td>\n",
              "      <td>0</td>\n",
              "      <td>0</td>\n",
              "      <td>0</td>\n",
              "      <td>0</td>\n",
              "      <td>0</td>\n",
              "      <td>0</td>\n",
              "      <td>0</td>\n",
              "      <td>0</td>\n",
              "      <td>0</td>\n",
              "      <td>0</td>\n",
              "      <td>0</td>\n",
              "      <td>0</td>\n",
              "      <td>0</td>\n",
              "      <td>0</td>\n",
              "      <td>0</td>\n",
              "      <td>0</td>\n",
              "      <td>1</td>\n",
              "      <td>0</td>\n",
              "    </tr>\n",
              "    <tr>\n",
              "      <th>2</th>\n",
              "      <td>257</td>\n",
              "      <td>27</td>\n",
              "      <td>1</td>\n",
              "      <td>0</td>\n",
              "      <td>2</td>\n",
              "      <td>2</td>\n",
              "      <td>0.0</td>\n",
              "      <td>0</td>\n",
              "      <td>0</td>\n",
              "      <td>0</td>\n",
              "      <td>0</td>\n",
              "      <td>0</td>\n",
              "      <td>0</td>\n",
              "      <td>0</td>\n",
              "      <td>0</td>\n",
              "      <td>2</td>\n",
              "      <td>2.0</td>\n",
              "      <td>1</td>\n",
              "      <td>0</td>\n",
              "      <td>0</td>\n",
              "      <td>0</td>\n",
              "      <td>1</td>\n",
              "      <td>0</td>\n",
              "      <td>0</td>\n",
              "      <td>0</td>\n",
              "      <td>0</td>\n",
              "      <td>0</td>\n",
              "      <td>0</td>\n",
              "      <td>0</td>\n",
              "      <td>0</td>\n",
              "      <td>0</td>\n",
              "      <td>0</td>\n",
              "      <td>0</td>\n",
              "      <td>0</td>\n",
              "      <td>0</td>\n",
              "      <td>0</td>\n",
              "      <td>0</td>\n",
              "      <td>0</td>\n",
              "      <td>0</td>\n",
              "      <td>0</td>\n",
              "      <td>...</td>\n",
              "      <td>0</td>\n",
              "      <td>0</td>\n",
              "      <td>0</td>\n",
              "      <td>0</td>\n",
              "      <td>0</td>\n",
              "      <td>0</td>\n",
              "      <td>0</td>\n",
              "      <td>0</td>\n",
              "      <td>0</td>\n",
              "      <td>0</td>\n",
              "      <td>0</td>\n",
              "      <td>0</td>\n",
              "      <td>0</td>\n",
              "      <td>0</td>\n",
              "      <td>0</td>\n",
              "      <td>0</td>\n",
              "      <td>0</td>\n",
              "      <td>0</td>\n",
              "      <td>0</td>\n",
              "      <td>0</td>\n",
              "      <td>0</td>\n",
              "      <td>0</td>\n",
              "      <td>0</td>\n",
              "      <td>0</td>\n",
              "      <td>0</td>\n",
              "      <td>0</td>\n",
              "      <td>0</td>\n",
              "      <td>0</td>\n",
              "      <td>0</td>\n",
              "      <td>0</td>\n",
              "      <td>0</td>\n",
              "      <td>0</td>\n",
              "      <td>0</td>\n",
              "      <td>0</td>\n",
              "      <td>0</td>\n",
              "      <td>0</td>\n",
              "      <td>0</td>\n",
              "      <td>0</td>\n",
              "      <td>1</td>\n",
              "      <td>0</td>\n",
              "    </tr>\n",
              "    <tr>\n",
              "      <th>3</th>\n",
              "      <td>257</td>\n",
              "      <td>27</td>\n",
              "      <td>1</td>\n",
              "      <td>0</td>\n",
              "      <td>2</td>\n",
              "      <td>2</td>\n",
              "      <td>0.0</td>\n",
              "      <td>0</td>\n",
              "      <td>0</td>\n",
              "      <td>0</td>\n",
              "      <td>0</td>\n",
              "      <td>0</td>\n",
              "      <td>0</td>\n",
              "      <td>0</td>\n",
              "      <td>0</td>\n",
              "      <td>2</td>\n",
              "      <td>2.0</td>\n",
              "      <td>1</td>\n",
              "      <td>0</td>\n",
              "      <td>0</td>\n",
              "      <td>0</td>\n",
              "      <td>1</td>\n",
              "      <td>0</td>\n",
              "      <td>0</td>\n",
              "      <td>0</td>\n",
              "      <td>0</td>\n",
              "      <td>0</td>\n",
              "      <td>0</td>\n",
              "      <td>0</td>\n",
              "      <td>0</td>\n",
              "      <td>0</td>\n",
              "      <td>0</td>\n",
              "      <td>0</td>\n",
              "      <td>0</td>\n",
              "      <td>0</td>\n",
              "      <td>0</td>\n",
              "      <td>0</td>\n",
              "      <td>0</td>\n",
              "      <td>0</td>\n",
              "      <td>0</td>\n",
              "      <td>...</td>\n",
              "      <td>0</td>\n",
              "      <td>0</td>\n",
              "      <td>0</td>\n",
              "      <td>0</td>\n",
              "      <td>0</td>\n",
              "      <td>0</td>\n",
              "      <td>0</td>\n",
              "      <td>0</td>\n",
              "      <td>0</td>\n",
              "      <td>0</td>\n",
              "      <td>0</td>\n",
              "      <td>0</td>\n",
              "      <td>0</td>\n",
              "      <td>0</td>\n",
              "      <td>0</td>\n",
              "      <td>0</td>\n",
              "      <td>0</td>\n",
              "      <td>0</td>\n",
              "      <td>0</td>\n",
              "      <td>0</td>\n",
              "      <td>0</td>\n",
              "      <td>0</td>\n",
              "      <td>0</td>\n",
              "      <td>0</td>\n",
              "      <td>0</td>\n",
              "      <td>0</td>\n",
              "      <td>0</td>\n",
              "      <td>0</td>\n",
              "      <td>0</td>\n",
              "      <td>0</td>\n",
              "      <td>0</td>\n",
              "      <td>0</td>\n",
              "      <td>0</td>\n",
              "      <td>0</td>\n",
              "      <td>0</td>\n",
              "      <td>0</td>\n",
              "      <td>0</td>\n",
              "      <td>0</td>\n",
              "      <td>1</td>\n",
              "      <td>0</td>\n",
              "    </tr>\n",
              "    <tr>\n",
              "      <th>4</th>\n",
              "      <td>257</td>\n",
              "      <td>27</td>\n",
              "      <td>1</td>\n",
              "      <td>0</td>\n",
              "      <td>2</td>\n",
              "      <td>2</td>\n",
              "      <td>0.0</td>\n",
              "      <td>0</td>\n",
              "      <td>0</td>\n",
              "      <td>0</td>\n",
              "      <td>0</td>\n",
              "      <td>0</td>\n",
              "      <td>0</td>\n",
              "      <td>0</td>\n",
              "      <td>0</td>\n",
              "      <td>2</td>\n",
              "      <td>2.0</td>\n",
              "      <td>1</td>\n",
              "      <td>0</td>\n",
              "      <td>0</td>\n",
              "      <td>0</td>\n",
              "      <td>1</td>\n",
              "      <td>0</td>\n",
              "      <td>0</td>\n",
              "      <td>0</td>\n",
              "      <td>0</td>\n",
              "      <td>0</td>\n",
              "      <td>0</td>\n",
              "      <td>0</td>\n",
              "      <td>0</td>\n",
              "      <td>0</td>\n",
              "      <td>0</td>\n",
              "      <td>0</td>\n",
              "      <td>0</td>\n",
              "      <td>0</td>\n",
              "      <td>0</td>\n",
              "      <td>0</td>\n",
              "      <td>0</td>\n",
              "      <td>0</td>\n",
              "      <td>0</td>\n",
              "      <td>...</td>\n",
              "      <td>0</td>\n",
              "      <td>0</td>\n",
              "      <td>0</td>\n",
              "      <td>0</td>\n",
              "      <td>0</td>\n",
              "      <td>0</td>\n",
              "      <td>0</td>\n",
              "      <td>0</td>\n",
              "      <td>0</td>\n",
              "      <td>0</td>\n",
              "      <td>0</td>\n",
              "      <td>0</td>\n",
              "      <td>0</td>\n",
              "      <td>0</td>\n",
              "      <td>0</td>\n",
              "      <td>0</td>\n",
              "      <td>0</td>\n",
              "      <td>0</td>\n",
              "      <td>0</td>\n",
              "      <td>0</td>\n",
              "      <td>0</td>\n",
              "      <td>0</td>\n",
              "      <td>0</td>\n",
              "      <td>0</td>\n",
              "      <td>0</td>\n",
              "      <td>0</td>\n",
              "      <td>0</td>\n",
              "      <td>0</td>\n",
              "      <td>0</td>\n",
              "      <td>0</td>\n",
              "      <td>0</td>\n",
              "      <td>0</td>\n",
              "      <td>0</td>\n",
              "      <td>0</td>\n",
              "      <td>0</td>\n",
              "      <td>0</td>\n",
              "      <td>0</td>\n",
              "      <td>0</td>\n",
              "      <td>1</td>\n",
              "      <td>0</td>\n",
              "    </tr>\n",
              "  </tbody>\n",
              "</table>\n",
              "<p>5 rows × 577 columns</p>\n",
              "</div>"
            ],
            "text/plain": [
              "   lead_time  ...  customer_type Transient-Party\n",
              "0        342  ...                              0\n",
              "1        257  ...                              0\n",
              "2        257  ...                              0\n",
              "3        257  ...                              0\n",
              "4        257  ...                              0\n",
              "\n",
              "[5 rows x 577 columns]"
            ]
          },
          "metadata": {
            "tags": []
          },
          "execution_count": 38
        }
      ]
    },
    {
      "cell_type": "code",
      "metadata": {
        "colab": {
          "base_uri": "https://localhost:8080/"
        },
        "id": "WkScWL04irEF",
        "outputId": "cdcba780-2961-4976-e3b5-29d0bc43bf69"
      },
      "source": [
        "train_test_is_canceled_y.head() "
      ],
      "execution_count": null,
      "outputs": [
        {
          "output_type": "execute_result",
          "data": {
            "text/plain": [
              "0    0\n",
              "1    0\n",
              "2    0\n",
              "3    0\n",
              "4    0\n",
              "Name: is_canceled, dtype: object"
            ]
          },
          "metadata": {
            "tags": []
          },
          "execution_count": 39
        }
      ]
    },
    {
      "cell_type": "code",
      "metadata": {
        "colab": {
          "base_uri": "https://localhost:8080/"
        },
        "id": "R3qdzDVMiz5I",
        "outputId": "dd463124-a851-40e4-ca73-6dcb734a5887"
      },
      "source": [
        "train_test_adr_y.head() "
      ],
      "execution_count": null,
      "outputs": [
        {
          "output_type": "execute_result",
          "data": {
            "text/plain": [
              "0   -6.30516\n",
              "1    75.0522\n",
              "2    74.5464\n",
              "3    76.3763\n",
              "4    49.4116\n",
              "Name: adr, dtype: object"
            ]
          },
          "metadata": {
            "tags": []
          },
          "execution_count": 40
        }
      ]
    },
    {
      "cell_type": "code",
      "metadata": {
        "id": "ZYEW660AvgM7"
      },
      "source": [
        "scale = StandardScaler() #z-scaler物件\n",
        "normalized_x_train_test = pd.DataFrame(scale.fit_transform(train_test_x), columns=train_test_x.keys())"
      ],
      "execution_count": null,
      "outputs": []
    },
    {
      "cell_type": "code",
      "metadata": {
        "colab": {
          "base_uri": "https://localhost:8080/",
          "height": 287
        },
        "id": "IlVoiwCmvgUT",
        "outputId": "b630f208-2c8c-4c6b-991b-37c909b368db"
      },
      "source": [
        "normalized_x_train_test.head()"
      ],
      "execution_count": null,
      "outputs": [
        {
          "output_type": "execute_result",
          "data": {
            "text/html": [
              "<div>\n",
              "<style scoped>\n",
              "    .dataframe tbody tr th:only-of-type {\n",
              "        vertical-align: middle;\n",
              "    }\n",
              "\n",
              "    .dataframe tbody tr th {\n",
              "        vertical-align: top;\n",
              "    }\n",
              "\n",
              "    .dataframe thead th {\n",
              "        text-align: right;\n",
              "    }\n",
              "</style>\n",
              "<table border=\"1\" class=\"dataframe\">\n",
              "  <thead>\n",
              "    <tr style=\"text-align: right;\">\n",
              "      <th></th>\n",
              "      <th>lead_time</th>\n",
              "      <th>arrival_date_week_number</th>\n",
              "      <th>arrival_date_day_of_month</th>\n",
              "      <th>stays_in_weekend_nights</th>\n",
              "      <th>stays_in_week_nights</th>\n",
              "      <th>adults</th>\n",
              "      <th>children</th>\n",
              "      <th>babies</th>\n",
              "      <th>is_repeated_guest</th>\n",
              "      <th>previous_cancellations</th>\n",
              "      <th>previous_bookings_not_canceled</th>\n",
              "      <th>booking_changes</th>\n",
              "      <th>days_in_waiting_list</th>\n",
              "      <th>required_car_parking_spaces</th>\n",
              "      <th>total_of_special_requests</th>\n",
              "      <th>stays</th>\n",
              "      <th>people_num</th>\n",
              "      <th>City Hotel</th>\n",
              "      <th>Resort Hotel</th>\n",
              "      <th>meal BB</th>\n",
              "      <th>meal FB</th>\n",
              "      <th>meal HB</th>\n",
              "      <th>meal SC</th>\n",
              "      <th>meal Undefined</th>\n",
              "      <th>ABW</th>\n",
              "      <th>AGO</th>\n",
              "      <th>AIA</th>\n",
              "      <th>ALB</th>\n",
              "      <th>AND</th>\n",
              "      <th>ARE</th>\n",
              "      <th>ARG</th>\n",
              "      <th>ARM</th>\n",
              "      <th>ASM</th>\n",
              "      <th>ATA</th>\n",
              "      <th>ATF</th>\n",
              "      <th>AUS</th>\n",
              "      <th>AUT</th>\n",
              "      <th>AZE</th>\n",
              "      <th>BDI</th>\n",
              "      <th>BEL</th>\n",
              "      <th>...</th>\n",
              "      <th>441.0</th>\n",
              "      <th>444.0</th>\n",
              "      <th>446.0</th>\n",
              "      <th>449.0</th>\n",
              "      <th>450.0</th>\n",
              "      <th>451.0</th>\n",
              "      <th>453.0</th>\n",
              "      <th>454.0</th>\n",
              "      <th>455.0</th>\n",
              "      <th>459.0</th>\n",
              "      <th>461.0</th>\n",
              "      <th>464.0</th>\n",
              "      <th>467.0</th>\n",
              "      <th>468.0</th>\n",
              "      <th>469.0</th>\n",
              "      <th>472.0</th>\n",
              "      <th>474.0</th>\n",
              "      <th>475.0</th>\n",
              "      <th>476.0</th>\n",
              "      <th>479.0</th>\n",
              "      <th>480.0</th>\n",
              "      <th>481.0</th>\n",
              "      <th>483.0</th>\n",
              "      <th>484.0</th>\n",
              "      <th>492.0</th>\n",
              "      <th>493.0</th>\n",
              "      <th>495.0</th>\n",
              "      <th>497.0</th>\n",
              "      <th>502.0</th>\n",
              "      <th>508.0</th>\n",
              "      <th>509.0</th>\n",
              "      <th>510.0</th>\n",
              "      <th>526.0</th>\n",
              "      <th>527.0</th>\n",
              "      <th>531.0</th>\n",
              "      <th>535.0</th>\n",
              "      <th>customer_type Contract</th>\n",
              "      <th>customer_type Group</th>\n",
              "      <th>customer_type Transient</th>\n",
              "      <th>customer_type Transient-Party</th>\n",
              "    </tr>\n",
              "  </thead>\n",
              "  <tbody>\n",
              "    <tr>\n",
              "      <th>0</th>\n",
              "      <td>2.227051</td>\n",
              "      <td>-0.012141</td>\n",
              "      <td>-1.685297</td>\n",
              "      <td>-0.92889</td>\n",
              "      <td>-1.310240</td>\n",
              "      <td>0.247897</td>\n",
              "      <td>-0.260659</td>\n",
              "      <td>-0.081579</td>\n",
              "      <td>-0.18156</td>\n",
              "      <td>-0.10318</td>\n",
              "      <td>-0.091555</td>\n",
              "      <td>4.260101</td>\n",
              "      <td>-0.131924</td>\n",
              "      <td>-0.254873</td>\n",
              "      <td>-0.720694</td>\n",
              "      <td>-1.340370</td>\n",
              "      <td>0.043967</td>\n",
              "      <td>-1.407224</td>\n",
              "      <td>1.407224</td>\n",
              "      <td>0.541627</td>\n",
              "      <td>-0.08203</td>\n",
              "      <td>-0.371266</td>\n",
              "      <td>-0.312954</td>\n",
              "      <td>-0.09944</td>\n",
              "      <td>-0.004093</td>\n",
              "      <td>-0.055148</td>\n",
              "      <td>-0.002894</td>\n",
              "      <td>-0.010026</td>\n",
              "      <td>-0.007657</td>\n",
              "      <td>-0.020673</td>\n",
              "      <td>-0.042375</td>\n",
              "      <td>-0.008186</td>\n",
              "      <td>-0.002894</td>\n",
              "      <td>-0.004093</td>\n",
              "      <td>-0.002894</td>\n",
              "      <td>-0.059841</td>\n",
              "      <td>-0.103402</td>\n",
              "      <td>-0.011934</td>\n",
              "      <td>-0.002894</td>\n",
              "      <td>-0.141453</td>\n",
              "      <td>...</td>\n",
              "      <td>-0.007657</td>\n",
              "      <td>-0.002894</td>\n",
              "      <td>-0.002894</td>\n",
              "      <td>-0.004093</td>\n",
              "      <td>-0.002894</td>\n",
              "      <td>-0.002894</td>\n",
              "      <td>-0.002894</td>\n",
              "      <td>-0.004093</td>\n",
              "      <td>-0.012616</td>\n",
              "      <td>-0.011577</td>\n",
              "      <td>-0.004093</td>\n",
              "      <td>-0.028662</td>\n",
              "      <td>-0.018077</td>\n",
              "      <td>-0.020263</td>\n",
              "      <td>-0.004093</td>\n",
              "      <td>-0.002894</td>\n",
              "      <td>-0.011934</td>\n",
              "      <td>-0.008186</td>\n",
              "      <td>-0.004093</td>\n",
              "      <td>-0.016374</td>\n",
              "      <td>-0.002894</td>\n",
              "      <td>-0.008186</td>\n",
              "      <td>-0.002894</td>\n",
              "      <td>-0.009599</td>\n",
              "      <td>-0.015316</td>\n",
              "      <td>-0.017124</td>\n",
              "      <td>-0.021855</td>\n",
              "      <td>-0.002894</td>\n",
              "      <td>-0.01418</td>\n",
              "      <td>-0.007089</td>\n",
              "      <td>-0.009152</td>\n",
              "      <td>-0.004093</td>\n",
              "      <td>-0.009152</td>\n",
              "      <td>-0.017124</td>\n",
              "      <td>-0.023872</td>\n",
              "      <td>-0.005013</td>\n",
              "      <td>-0.188008</td>\n",
              "      <td>-0.069688</td>\n",
              "      <td>0.576441</td>\n",
              "      <td>-0.516258</td>\n",
              "    </tr>\n",
              "    <tr>\n",
              "      <th>1</th>\n",
              "      <td>1.431638</td>\n",
              "      <td>-0.012141</td>\n",
              "      <td>-1.685297</td>\n",
              "      <td>-0.92889</td>\n",
              "      <td>-0.262174</td>\n",
              "      <td>-1.478447</td>\n",
              "      <td>-0.260659</td>\n",
              "      <td>-0.081579</td>\n",
              "      <td>-0.18156</td>\n",
              "      <td>-0.10318</td>\n",
              "      <td>-0.091555</td>\n",
              "      <td>1.194040</td>\n",
              "      <td>-0.131924</td>\n",
              "      <td>-0.254873</td>\n",
              "      <td>-0.720694</td>\n",
              "      <td>-0.558334</td>\n",
              "      <td>-1.340324</td>\n",
              "      <td>0.710619</td>\n",
              "      <td>-0.710619</td>\n",
              "      <td>-1.846291</td>\n",
              "      <td>-0.08203</td>\n",
              "      <td>2.693484</td>\n",
              "      <td>-0.312954</td>\n",
              "      <td>-0.09944</td>\n",
              "      <td>-0.004093</td>\n",
              "      <td>-0.055148</td>\n",
              "      <td>-0.002894</td>\n",
              "      <td>-0.010026</td>\n",
              "      <td>-0.007657</td>\n",
              "      <td>-0.020673</td>\n",
              "      <td>-0.042375</td>\n",
              "      <td>-0.008186</td>\n",
              "      <td>-0.002894</td>\n",
              "      <td>-0.004093</td>\n",
              "      <td>-0.002894</td>\n",
              "      <td>-0.059841</td>\n",
              "      <td>-0.103402</td>\n",
              "      <td>-0.011934</td>\n",
              "      <td>-0.002894</td>\n",
              "      <td>-0.141453</td>\n",
              "      <td>...</td>\n",
              "      <td>-0.007657</td>\n",
              "      <td>-0.002894</td>\n",
              "      <td>-0.002894</td>\n",
              "      <td>-0.004093</td>\n",
              "      <td>-0.002894</td>\n",
              "      <td>-0.002894</td>\n",
              "      <td>-0.002894</td>\n",
              "      <td>-0.004093</td>\n",
              "      <td>-0.012616</td>\n",
              "      <td>-0.011577</td>\n",
              "      <td>-0.004093</td>\n",
              "      <td>-0.028662</td>\n",
              "      <td>-0.018077</td>\n",
              "      <td>-0.020263</td>\n",
              "      <td>-0.004093</td>\n",
              "      <td>-0.002894</td>\n",
              "      <td>-0.011934</td>\n",
              "      <td>-0.008186</td>\n",
              "      <td>-0.004093</td>\n",
              "      <td>-0.016374</td>\n",
              "      <td>-0.002894</td>\n",
              "      <td>-0.008186</td>\n",
              "      <td>-0.002894</td>\n",
              "      <td>-0.009599</td>\n",
              "      <td>-0.015316</td>\n",
              "      <td>-0.017124</td>\n",
              "      <td>-0.021855</td>\n",
              "      <td>-0.002894</td>\n",
              "      <td>-0.01418</td>\n",
              "      <td>-0.007089</td>\n",
              "      <td>-0.009152</td>\n",
              "      <td>-0.004093</td>\n",
              "      <td>-0.009152</td>\n",
              "      <td>-0.017124</td>\n",
              "      <td>-0.023872</td>\n",
              "      <td>-0.005013</td>\n",
              "      <td>-0.188008</td>\n",
              "      <td>-0.069688</td>\n",
              "      <td>0.576441</td>\n",
              "      <td>-0.516258</td>\n",
              "    </tr>\n",
              "    <tr>\n",
              "      <th>2</th>\n",
              "      <td>1.431638</td>\n",
              "      <td>-0.012141</td>\n",
              "      <td>-1.685297</td>\n",
              "      <td>-0.92889</td>\n",
              "      <td>-0.262174</td>\n",
              "      <td>0.247897</td>\n",
              "      <td>-0.260659</td>\n",
              "      <td>-0.081579</td>\n",
              "      <td>-0.18156</td>\n",
              "      <td>-0.10318</td>\n",
              "      <td>-0.091555</td>\n",
              "      <td>-0.338990</td>\n",
              "      <td>-0.131924</td>\n",
              "      <td>-0.254873</td>\n",
              "      <td>-0.720694</td>\n",
              "      <td>-0.558334</td>\n",
              "      <td>0.043967</td>\n",
              "      <td>0.710619</td>\n",
              "      <td>-0.710619</td>\n",
              "      <td>-1.846291</td>\n",
              "      <td>-0.08203</td>\n",
              "      <td>2.693484</td>\n",
              "      <td>-0.312954</td>\n",
              "      <td>-0.09944</td>\n",
              "      <td>-0.004093</td>\n",
              "      <td>-0.055148</td>\n",
              "      <td>-0.002894</td>\n",
              "      <td>-0.010026</td>\n",
              "      <td>-0.007657</td>\n",
              "      <td>-0.020673</td>\n",
              "      <td>-0.042375</td>\n",
              "      <td>-0.008186</td>\n",
              "      <td>-0.002894</td>\n",
              "      <td>-0.004093</td>\n",
              "      <td>-0.002894</td>\n",
              "      <td>-0.059841</td>\n",
              "      <td>-0.103402</td>\n",
              "      <td>-0.011934</td>\n",
              "      <td>-0.002894</td>\n",
              "      <td>-0.141453</td>\n",
              "      <td>...</td>\n",
              "      <td>-0.007657</td>\n",
              "      <td>-0.002894</td>\n",
              "      <td>-0.002894</td>\n",
              "      <td>-0.004093</td>\n",
              "      <td>-0.002894</td>\n",
              "      <td>-0.002894</td>\n",
              "      <td>-0.002894</td>\n",
              "      <td>-0.004093</td>\n",
              "      <td>-0.012616</td>\n",
              "      <td>-0.011577</td>\n",
              "      <td>-0.004093</td>\n",
              "      <td>-0.028662</td>\n",
              "      <td>-0.018077</td>\n",
              "      <td>-0.020263</td>\n",
              "      <td>-0.004093</td>\n",
              "      <td>-0.002894</td>\n",
              "      <td>-0.011934</td>\n",
              "      <td>-0.008186</td>\n",
              "      <td>-0.004093</td>\n",
              "      <td>-0.016374</td>\n",
              "      <td>-0.002894</td>\n",
              "      <td>-0.008186</td>\n",
              "      <td>-0.002894</td>\n",
              "      <td>-0.009599</td>\n",
              "      <td>-0.015316</td>\n",
              "      <td>-0.017124</td>\n",
              "      <td>-0.021855</td>\n",
              "      <td>-0.002894</td>\n",
              "      <td>-0.01418</td>\n",
              "      <td>-0.007089</td>\n",
              "      <td>-0.009152</td>\n",
              "      <td>-0.004093</td>\n",
              "      <td>-0.009152</td>\n",
              "      <td>-0.017124</td>\n",
              "      <td>-0.023872</td>\n",
              "      <td>-0.005013</td>\n",
              "      <td>-0.188008</td>\n",
              "      <td>-0.069688</td>\n",
              "      <td>0.576441</td>\n",
              "      <td>-0.516258</td>\n",
              "    </tr>\n",
              "    <tr>\n",
              "      <th>3</th>\n",
              "      <td>1.431638</td>\n",
              "      <td>-0.012141</td>\n",
              "      <td>-1.685297</td>\n",
              "      <td>-0.92889</td>\n",
              "      <td>-0.262174</td>\n",
              "      <td>0.247897</td>\n",
              "      <td>-0.260659</td>\n",
              "      <td>-0.081579</td>\n",
              "      <td>-0.18156</td>\n",
              "      <td>-0.10318</td>\n",
              "      <td>-0.091555</td>\n",
              "      <td>-0.338990</td>\n",
              "      <td>-0.131924</td>\n",
              "      <td>-0.254873</td>\n",
              "      <td>-0.720694</td>\n",
              "      <td>-0.558334</td>\n",
              "      <td>0.043967</td>\n",
              "      <td>0.710619</td>\n",
              "      <td>-0.710619</td>\n",
              "      <td>-1.846291</td>\n",
              "      <td>-0.08203</td>\n",
              "      <td>2.693484</td>\n",
              "      <td>-0.312954</td>\n",
              "      <td>-0.09944</td>\n",
              "      <td>-0.004093</td>\n",
              "      <td>-0.055148</td>\n",
              "      <td>-0.002894</td>\n",
              "      <td>-0.010026</td>\n",
              "      <td>-0.007657</td>\n",
              "      <td>-0.020673</td>\n",
              "      <td>-0.042375</td>\n",
              "      <td>-0.008186</td>\n",
              "      <td>-0.002894</td>\n",
              "      <td>-0.004093</td>\n",
              "      <td>-0.002894</td>\n",
              "      <td>-0.059841</td>\n",
              "      <td>-0.103402</td>\n",
              "      <td>-0.011934</td>\n",
              "      <td>-0.002894</td>\n",
              "      <td>-0.141453</td>\n",
              "      <td>...</td>\n",
              "      <td>-0.007657</td>\n",
              "      <td>-0.002894</td>\n",
              "      <td>-0.002894</td>\n",
              "      <td>-0.004093</td>\n",
              "      <td>-0.002894</td>\n",
              "      <td>-0.002894</td>\n",
              "      <td>-0.002894</td>\n",
              "      <td>-0.004093</td>\n",
              "      <td>-0.012616</td>\n",
              "      <td>-0.011577</td>\n",
              "      <td>-0.004093</td>\n",
              "      <td>-0.028662</td>\n",
              "      <td>-0.018077</td>\n",
              "      <td>-0.020263</td>\n",
              "      <td>-0.004093</td>\n",
              "      <td>-0.002894</td>\n",
              "      <td>-0.011934</td>\n",
              "      <td>-0.008186</td>\n",
              "      <td>-0.004093</td>\n",
              "      <td>-0.016374</td>\n",
              "      <td>-0.002894</td>\n",
              "      <td>-0.008186</td>\n",
              "      <td>-0.002894</td>\n",
              "      <td>-0.009599</td>\n",
              "      <td>-0.015316</td>\n",
              "      <td>-0.017124</td>\n",
              "      <td>-0.021855</td>\n",
              "      <td>-0.002894</td>\n",
              "      <td>-0.01418</td>\n",
              "      <td>-0.007089</td>\n",
              "      <td>-0.009152</td>\n",
              "      <td>-0.004093</td>\n",
              "      <td>-0.009152</td>\n",
              "      <td>-0.017124</td>\n",
              "      <td>-0.023872</td>\n",
              "      <td>-0.005013</td>\n",
              "      <td>-0.188008</td>\n",
              "      <td>-0.069688</td>\n",
              "      <td>0.576441</td>\n",
              "      <td>-0.516258</td>\n",
              "    </tr>\n",
              "    <tr>\n",
              "      <th>4</th>\n",
              "      <td>1.431638</td>\n",
              "      <td>-0.012141</td>\n",
              "      <td>-1.685297</td>\n",
              "      <td>-0.92889</td>\n",
              "      <td>-0.262174</td>\n",
              "      <td>0.247897</td>\n",
              "      <td>-0.260659</td>\n",
              "      <td>-0.081579</td>\n",
              "      <td>-0.18156</td>\n",
              "      <td>-0.10318</td>\n",
              "      <td>-0.091555</td>\n",
              "      <td>-0.338990</td>\n",
              "      <td>-0.131924</td>\n",
              "      <td>-0.254873</td>\n",
              "      <td>-0.720694</td>\n",
              "      <td>-0.558334</td>\n",
              "      <td>0.043967</td>\n",
              "      <td>0.710619</td>\n",
              "      <td>-0.710619</td>\n",
              "      <td>-1.846291</td>\n",
              "      <td>-0.08203</td>\n",
              "      <td>2.693484</td>\n",
              "      <td>-0.312954</td>\n",
              "      <td>-0.09944</td>\n",
              "      <td>-0.004093</td>\n",
              "      <td>-0.055148</td>\n",
              "      <td>-0.002894</td>\n",
              "      <td>-0.010026</td>\n",
              "      <td>-0.007657</td>\n",
              "      <td>-0.020673</td>\n",
              "      <td>-0.042375</td>\n",
              "      <td>-0.008186</td>\n",
              "      <td>-0.002894</td>\n",
              "      <td>-0.004093</td>\n",
              "      <td>-0.002894</td>\n",
              "      <td>-0.059841</td>\n",
              "      <td>-0.103402</td>\n",
              "      <td>-0.011934</td>\n",
              "      <td>-0.002894</td>\n",
              "      <td>-0.141453</td>\n",
              "      <td>...</td>\n",
              "      <td>-0.007657</td>\n",
              "      <td>-0.002894</td>\n",
              "      <td>-0.002894</td>\n",
              "      <td>-0.004093</td>\n",
              "      <td>-0.002894</td>\n",
              "      <td>-0.002894</td>\n",
              "      <td>-0.002894</td>\n",
              "      <td>-0.004093</td>\n",
              "      <td>-0.012616</td>\n",
              "      <td>-0.011577</td>\n",
              "      <td>-0.004093</td>\n",
              "      <td>-0.028662</td>\n",
              "      <td>-0.018077</td>\n",
              "      <td>-0.020263</td>\n",
              "      <td>-0.004093</td>\n",
              "      <td>-0.002894</td>\n",
              "      <td>-0.011934</td>\n",
              "      <td>-0.008186</td>\n",
              "      <td>-0.004093</td>\n",
              "      <td>-0.016374</td>\n",
              "      <td>-0.002894</td>\n",
              "      <td>-0.008186</td>\n",
              "      <td>-0.002894</td>\n",
              "      <td>-0.009599</td>\n",
              "      <td>-0.015316</td>\n",
              "      <td>-0.017124</td>\n",
              "      <td>-0.021855</td>\n",
              "      <td>-0.002894</td>\n",
              "      <td>-0.01418</td>\n",
              "      <td>-0.007089</td>\n",
              "      <td>-0.009152</td>\n",
              "      <td>-0.004093</td>\n",
              "      <td>-0.009152</td>\n",
              "      <td>-0.017124</td>\n",
              "      <td>-0.023872</td>\n",
              "      <td>-0.005013</td>\n",
              "      <td>-0.188008</td>\n",
              "      <td>-0.069688</td>\n",
              "      <td>0.576441</td>\n",
              "      <td>-0.516258</td>\n",
              "    </tr>\n",
              "  </tbody>\n",
              "</table>\n",
              "<p>5 rows × 577 columns</p>\n",
              "</div>"
            ],
            "text/plain": [
              "   lead_time  ...  customer_type Transient-Party\n",
              "0   2.227051  ...                      -0.516258\n",
              "1   1.431638  ...                      -0.516258\n",
              "2   1.431638  ...                      -0.516258\n",
              "3   1.431638  ...                      -0.516258\n",
              "4   1.431638  ...                      -0.516258\n",
              "\n",
              "[5 rows x 577 columns]"
            ]
          },
          "metadata": {
            "tags": []
          },
          "execution_count": 42
        }
      ]
    },
    {
      "cell_type": "markdown",
      "metadata": {
        "id": "Ql2Q_OpqrYQU"
      },
      "source": [
        "# Classifier"
      ]
    },
    {
      "cell_type": "markdown",
      "metadata": {
        "id": "J1EpAEvVVUPf"
      },
      "source": [
        "### Split Train & Test"
      ]
    },
    {
      "cell_type": "code",
      "metadata": {
        "id": "YOz2KxpDTzF-"
      },
      "source": [
        "train_x, train_is_canceled_y = normalized_x_train_test[:-27859], train_test_is_canceled_y[:-27859]\n",
        "test_x, test_is_canceled_y = normalized_x_train_test[-27859:], train_test_is_canceled_y[-27859:]"
      ],
      "execution_count": null,
      "outputs": []
    },
    {
      "cell_type": "markdown",
      "metadata": {
        "id": "H2Zf8olyfqtV"
      },
      "source": [
        "### Data Augmentation"
      ]
    },
    {
      "cell_type": "code",
      "metadata": {
        "id": "Q6ETN5b_bk43"
      },
      "source": [
        "# import numpy as np\n",
        "\n",
        "# mu, sigma = 0, 0.01\n",
        "# noise = np.random.normal(mu, sigma, [train_x.shape[0], train_x.shape[1]]) \n",
        "# print(noise)"
      ],
      "execution_count": null,
      "outputs": []
    },
    {
      "cell_type": "code",
      "metadata": {
        "id": "D6P6MfzUcZsM"
      },
      "source": [
        "# # 增加一倍的資料量\n",
        "# noisy_train_x = train_x + noise\n",
        "# augment_train_x = pd.concat([train_x, noisy_train_x])\n",
        "# augment_train_y = pd.concat([train_y, train_y])"
      ],
      "execution_count": null,
      "outputs": []
    },
    {
      "cell_type": "code",
      "metadata": {
        "id": "BCWgaaxrdeND"
      },
      "source": [
        "# import random\n",
        "\n",
        "# order_list = []\n",
        "# for i in range(183062): \n",
        "#     order_list.append(i)"
      ],
      "execution_count": null,
      "outputs": []
    },
    {
      "cell_type": "code",
      "metadata": {
        "id": "KQg3NNDhdm0x"
      },
      "source": [
        "# order_list_t = order_list[:82384] + order_list[91530:-9147]\n",
        "# order_list_v = order_list[82384:91530] + order_list[-9147:]\n",
        "\n",
        "# print(len(order_list_t))\n",
        "# print(len(order_list_v))"
      ],
      "execution_count": null,
      "outputs": []
    },
    {
      "cell_type": "code",
      "metadata": {
        "colab": {
          "base_uri": "https://localhost:8080/"
        },
        "id": "gcPrn8d1cZ2g",
        "outputId": "c9e363bc-3d77-4d95-da9d-d2745c048665"
      },
      "source": [
        "# from sklearn.ensemble import RandomForestClassifier\n",
        "# from sklearn.datasets import make_classification\n",
        "# from sklearn import ensemble, preprocessing, metrics\n",
        "# from sklearn.metrics import f1_score\n",
        "\n",
        "# augment_train_y = augment_train_y.to_list()\n",
        "\n",
        "# train_x_cross = augment_train_x.iloc[ order_list_t ]\n",
        "# train_y_cross = [augment_train_y[i] for i in order_list_t] \n",
        "\n",
        "# valid_x_cross = augment_train_x.iloc[ order_list_v ]\n",
        "# valid_y_cross = [augment_train_y[i] for i in order_list_v]\n",
        "\n",
        "# # training\n",
        "# forest = ensemble.RandomForestClassifier(n_estimators = 100)\n",
        "# forest_fit = forest.fit(train_x_cross, train_y_cross)\n",
        "# y_train_predicted = forest.predict(train_x_cross) \n",
        "# accuracy = metrics.accuracy_score(train_y_cross, y_train_predicted)\n",
        "# print('training accuracy', accuracy)\n",
        "\n",
        "# # predicting\n",
        "# y_valid_predicted = forest.predict(valid_x_cross) \n",
        "# accuracy = metrics.accuracy_score(valid_y_cross, y_valid_predicted)\n",
        "# print('validating accuracy', accuracy)\n",
        "# print('F1 Score')\n",
        "# print(f1_score(valid_y_cross, y_valid_predicted, average='macro'))\n",
        "# print(f1_score(valid_y_cross, y_valid_predicted, average='micro'))\n",
        "# print(f1_score(valid_y_cross, y_valid_predicted, average='weighted'))\n",
        "# print('')"
      ],
      "execution_count": null,
      "outputs": [
        {
          "output_type": "stream",
          "text": [
            "training accuracy 0.9973417329716148\n",
            "validating accuracy 0.8158858579784617\n",
            "F1 Score\n",
            "0.773028371243609\n",
            "0.8158858579784617\n",
            "0.806288886486697\n",
            "\n"
          ],
          "name": "stdout"
        }
      ]
    },
    {
      "cell_type": "markdown",
      "metadata": {
        "id": "31FP4U9DfaR_"
      },
      "source": [
        "### Training & Validating \n",
        "### Random Forest"
      ]
    },
    {
      "cell_type": "code",
      "metadata": {
        "id": "1_Aws_l0cq9I"
      },
      "source": [
        "import random\n",
        "\n",
        "order_list = []\n",
        "for i in range(len(train_x)):\n",
        "    order_list.append(i)\n",
        "\n",
        "\n",
        "# 9147 剛好切到 2017/1/31\n",
        "order_list_t = order_list[:-9147] \n",
        "order_list_v = order_list[-9147:]\n",
        "\n",
        "# 前面 21996 筆是 2015 年\n",
        "order_list_t = order_list_t[21996:]"
      ],
      "execution_count": null,
      "outputs": []
    },
    {
      "cell_type": "code",
      "metadata": {
        "id": "EXCF6tO2sRCN"
      },
      "source": [
        "from sklearn.ensemble import RandomForestClassifier\n",
        "from sklearn.datasets import make_classification\n",
        "from sklearn import ensemble, preprocessing, metrics\n",
        "from sklearn.metrics import f1_score\n",
        "\n",
        "# train_x_cross = train_x.iloc[ order_list_t ]\n",
        "# train_y_cross = [train_is_canceled_y[i] for i in order_list_t] \n",
        "\n",
        "# valid_x_cross = train_x.iloc[ order_list_v ]\n",
        "# valid_y_cross = [train_is_canceled_y[i] for i in order_list_v]\n",
        "\n",
        "# # training\n",
        "# forest = ensemble.RandomForestClassifier(n_estimators=300, random_state=0)\n",
        "# forest_fit = forest.fit(train_x_cross, train_y_cross)\n",
        "# y_train_predicted = forest.predict(train_x_cross) \n",
        "# accuracy = metrics.accuracy_score(train_y_cross, y_train_predicted)\n",
        "# print('training accuracy', accuracy)\n",
        "\n",
        "# # predicting\n",
        "# y_valid_is_canceled_predicted = forest.predict(valid_x_cross) \n",
        "# accuracy = metrics.accuracy_score(valid_y_cross, y_valid_is_canceled_predicted)\n",
        "# print('validating accuracy', accuracy)\n",
        "# print('F1 Score')\n",
        "# print(f1_score(valid_y_cross, y_valid_is_canceled_predicted, average='macro'))\n",
        "# print(f1_score(valid_y_cross, y_valid_is_canceled_predicted, average='micro'))\n",
        "# print(f1_score(valid_y_cross, y_valid_is_canceled_predicted, average='weighted'))\n",
        "\n",
        "# 250 > 300 > 350 2016:250 \n",
        "# training accuracy 0.9958435450751805\n",
        "# validating accuracy 0.8232207281075763\n",
        "# F1 Score\n",
        "# 0.784531076339654\n",
        "# 0.8232207281075763\n",
        "# 0.8153250845192309\n",
        "\n",
        "# 350 > 300 > 250 > 400 All:350\n",
        "# training accuracy 0.9946470188386094\n",
        "# validating accuracy 0.8201596151743741\n",
        "# F1 Score\n",
        "# 0.7796485419127992\n",
        "# 0.8201596151743741\n",
        "# 0.8115140852610804"
      ],
      "execution_count": null,
      "outputs": []
    },
    {
      "cell_type": "markdown",
      "metadata": {
        "id": "CJ0Dt1rmamx4"
      },
      "source": [
        "### Use All Data"
      ]
    },
    {
      "cell_type": "code",
      "metadata": {
        "id": "0Z38HBr-ae3k"
      },
      "source": [
        "order_list_t = order_list"
      ],
      "execution_count": null,
      "outputs": []
    },
    {
      "cell_type": "code",
      "metadata": {
        "colab": {
          "base_uri": "https://localhost:8080/"
        },
        "id": "ljh-3bjhxYZ5",
        "outputId": "71e79550-ff16-4cd2-dfaa-677adbf2d822"
      },
      "source": [
        "train_x_cross = train_x.iloc[ order_list_t ]\n",
        "train_y_cross = [train_is_canceled_y[i] for i in order_list_t] \n",
        "\n",
        "test_x_cross = test_x\n",
        "\n",
        "# training\n",
        "forest_1 = ensemble.RandomForestClassifier(n_estimators=300, random_state=0)\n",
        "forest_fit = forest_1.fit(train_x_cross, train_y_cross)\n",
        "y_train_predicted = forest_1.predict(train_x_cross) \n",
        "accuracy = metrics.accuracy_score(train_y_cross, y_train_predicted)\n",
        "print('training accuracy', accuracy)\n",
        "\n",
        "# predicting\n",
        "y_test_is_canceled_predicted = forest_1.predict(test_x_cross) "
      ],
      "execution_count": null,
      "outputs": [
        {
          "output_type": "stream",
          "text": [
            "training accuracy 0.9943407151675389\n"
          ],
          "name": "stdout"
        }
      ]
    },
    {
      "cell_type": "code",
      "metadata": {
        "colab": {
          "base_uri": "https://localhost:8080/"
        },
        "id": "RoHwl5x_GyQd",
        "outputId": "c123b821-47e3-4e0c-c28a-6979db6b2d58"
      },
      "source": [
        "cancel_probability = forest_1.predict_proba(test_x_cross) # [cancel, not cancel]\n",
        "cancel_probability = cancel_probability[:, 1]\n",
        "print(y_test_is_canceled_predicted) # hard label\n",
        "print(cancel_probability) # soft label"
      ],
      "execution_count": null,
      "outputs": [
        {
          "output_type": "stream",
          "text": [
            "[0 1 0 ... 0 0 0]\n",
            "[0.34666667 0.82       0.37787157 ... 0.17666667 0.02333333 0.11333333]\n"
          ],
          "name": "stdout"
        }
      ]
    },
    {
      "cell_type": "code",
      "metadata": {
        "colab": {
          "base_uri": "https://localhost:8080/"
        },
        "id": "ZvsrvJVB3Ldn",
        "outputId": "2ec28235-42a9-42d4-90f1-6e4fc52a2ea6"
      },
      "source": [
        "!gdown --id 1k1RKpuuv-UW5k3t--t3cqy2j-s8kh5V5\n",
        "!gdown --id 17lsatK1aSZQlSie61x15DRQX5DTVSNNd\n",
        "\n",
        "adr_test_pred = pd.read_csv('adr_output_20210103.csv', header=None)\n",
        "ensemble_adr_test_pred = pd.read_csv('adr_output_20210110.csv', header=None)"
      ],
      "execution_count": null,
      "outputs": [
        {
          "output_type": "stream",
          "text": [
            "Downloading...\n",
            "From: https://drive.google.com/uc?id=1k1RKpuuv-UW5k3t--t3cqy2j-s8kh5V5\n",
            "To: /content/adr_output_20210103.csv\n",
            "100% 696k/696k [00:00<00:00, 91.7MB/s]\n",
            "Downloading...\n",
            "From: https://drive.google.com/uc?id=17lsatK1aSZQlSie61x15DRQX5DTVSNNd\n",
            "To: /content/adr_output_20210110.csv\n",
            "5.02MB [00:00, 161MB/s]\n"
          ],
          "name": "stdout"
        }
      ]
    },
    {
      "cell_type": "code",
      "metadata": {
        "colab": {
          "base_uri": "https://localhost:8080/",
          "height": 224
        },
        "id": "a0WVPrcZ6pCc",
        "outputId": "7fc785b9-d8b2-44ed-a826-47f2dbc7cd23"
      },
      "source": [
        "ensemble_adr_test_pred.head()"
      ],
      "execution_count": null,
      "outputs": [
        {
          "output_type": "execute_result",
          "data": {
            "text/html": [
              "<div>\n",
              "<style scoped>\n",
              "    .dataframe tbody tr th:only-of-type {\n",
              "        vertical-align: middle;\n",
              "    }\n",
              "\n",
              "    .dataframe tbody tr th {\n",
              "        vertical-align: top;\n",
              "    }\n",
              "\n",
              "    .dataframe thead th {\n",
              "        text-align: right;\n",
              "    }\n",
              "</style>\n",
              "<table border=\"1\" class=\"dataframe\">\n",
              "  <thead>\n",
              "    <tr style=\"text-align: right;\">\n",
              "      <th></th>\n",
              "      <th>0</th>\n",
              "      <th>1</th>\n",
              "      <th>2</th>\n",
              "      <th>3</th>\n",
              "      <th>4</th>\n",
              "      <th>5</th>\n",
              "      <th>6</th>\n",
              "      <th>7</th>\n",
              "      <th>8</th>\n",
              "      <th>9</th>\n",
              "      <th>10</th>\n",
              "      <th>11</th>\n",
              "      <th>12</th>\n",
              "      <th>13</th>\n",
              "      <th>14</th>\n",
              "      <th>15</th>\n",
              "    </tr>\n",
              "  </thead>\n",
              "  <tbody>\n",
              "    <tr>\n",
              "      <th>0</th>\n",
              "      <td>101.763145</td>\n",
              "      <td>NaN</td>\n",
              "      <td>98.756882</td>\n",
              "      <td>92.611130</td>\n",
              "      <td>90.678856</td>\n",
              "      <td>95.814171</td>\n",
              "      <td>96.545830</td>\n",
              "      <td>90.815102</td>\n",
              "      <td>98.858635</td>\n",
              "      <td>88.173447</td>\n",
              "      <td>94.337479</td>\n",
              "      <td>100.672249</td>\n",
              "      <td>85.889496</td>\n",
              "      <td>97.234131</td>\n",
              "      <td>96.792107</td>\n",
              "      <td>92.602806</td>\n",
              "    </tr>\n",
              "    <tr>\n",
              "      <th>1</th>\n",
              "      <td>43.326958</td>\n",
              "      <td>NaN</td>\n",
              "      <td>50.519096</td>\n",
              "      <td>50.593338</td>\n",
              "      <td>44.205395</td>\n",
              "      <td>42.085812</td>\n",
              "      <td>49.701481</td>\n",
              "      <td>40.581783</td>\n",
              "      <td>44.359417</td>\n",
              "      <td>39.808346</td>\n",
              "      <td>34.530357</td>\n",
              "      <td>58.787785</td>\n",
              "      <td>37.797218</td>\n",
              "      <td>46.357811</td>\n",
              "      <td>49.782597</td>\n",
              "      <td>46.039417</td>\n",
              "    </tr>\n",
              "    <tr>\n",
              "      <th>2</th>\n",
              "      <td>86.269730</td>\n",
              "      <td>NaN</td>\n",
              "      <td>58.495701</td>\n",
              "      <td>53.513168</td>\n",
              "      <td>61.422215</td>\n",
              "      <td>60.998245</td>\n",
              "      <td>65.094170</td>\n",
              "      <td>61.445824</td>\n",
              "      <td>64.444633</td>\n",
              "      <td>60.927193</td>\n",
              "      <td>65.372490</td>\n",
              "      <td>67.209106</td>\n",
              "      <td>53.300945</td>\n",
              "      <td>61.827183</td>\n",
              "      <td>57.782360</td>\n",
              "      <td>60.640114</td>\n",
              "    </tr>\n",
              "    <tr>\n",
              "      <th>3</th>\n",
              "      <td>112.073639</td>\n",
              "      <td>NaN</td>\n",
              "      <td>115.126747</td>\n",
              "      <td>106.661385</td>\n",
              "      <td>107.175003</td>\n",
              "      <td>107.607918</td>\n",
              "      <td>109.834518</td>\n",
              "      <td>99.802322</td>\n",
              "      <td>114.094109</td>\n",
              "      <td>104.080025</td>\n",
              "      <td>107.058823</td>\n",
              "      <td>118.282921</td>\n",
              "      <td>104.191795</td>\n",
              "      <td>111.615074</td>\n",
              "      <td>115.474785</td>\n",
              "      <td>109.097237</td>\n",
              "    </tr>\n",
              "    <tr>\n",
              "      <th>4</th>\n",
              "      <td>204.763046</td>\n",
              "      <td>NaN</td>\n",
              "      <td>192.618546</td>\n",
              "      <td>196.715088</td>\n",
              "      <td>197.331558</td>\n",
              "      <td>222.737152</td>\n",
              "      <td>208.099518</td>\n",
              "      <td>186.642776</td>\n",
              "      <td>201.046860</td>\n",
              "      <td>187.077270</td>\n",
              "      <td>191.435318</td>\n",
              "      <td>201.716019</td>\n",
              "      <td>197.836578</td>\n",
              "      <td>204.573654</td>\n",
              "      <td>185.200455</td>\n",
              "      <td>202.911591</td>\n",
              "    </tr>\n",
              "  </tbody>\n",
              "</table>\n",
              "</div>"
            ],
            "text/plain": [
              "           0   1           2   ...          13          14          15\n",
              "0  101.763145 NaN   98.756882  ...   97.234131   96.792107   92.602806\n",
              "1   43.326958 NaN   50.519096  ...   46.357811   49.782597   46.039417\n",
              "2   86.269730 NaN   58.495701  ...   61.827183   57.782360   60.640114\n",
              "3  112.073639 NaN  115.126747  ...  111.615074  115.474785  109.097237\n",
              "4  204.763046 NaN  192.618546  ...  204.573654  185.200455  202.911591\n",
              "\n",
              "[5 rows x 16 columns]"
            ]
          },
          "metadata": {
            "tags": []
          },
          "execution_count": 50
        }
      ]
    },
    {
      "cell_type": "code",
      "metadata": {
        "id": "2ZEJr2rP6pIR"
      },
      "source": [
        "ensemble_adr_test_pred['final_adr'] = (ensemble_adr_test_pred[2] + ensemble_adr_test_pred[3] + ensemble_adr_test_pred[4] + ensemble_adr_test_pred[5] + ensemble_adr_test_pred[6] + ensemble_adr_test_pred[7] + ensemble_adr_test_pred[8] + ensemble_adr_test_pred[9] + ensemble_adr_test_pred[10] + ensemble_adr_test_pred[11] + ensemble_adr_test_pred[12] + ensemble_adr_test_pred[13] + ensemble_adr_test_pred[14] + ensemble_adr_test_pred[15]) / 14"
      ],
      "execution_count": null,
      "outputs": []
    },
    {
      "cell_type": "code",
      "metadata": {
        "colab": {
          "base_uri": "https://localhost:8080/",
          "height": 224
        },
        "id": "fB4a7ftp6pMo",
        "outputId": "4dc5d2f0-95bb-46ea-e4c0-39202a21d58b"
      },
      "source": [
        "ensemble_adr_test_pred.head()"
      ],
      "execution_count": null,
      "outputs": [
        {
          "output_type": "execute_result",
          "data": {
            "text/html": [
              "<div>\n",
              "<style scoped>\n",
              "    .dataframe tbody tr th:only-of-type {\n",
              "        vertical-align: middle;\n",
              "    }\n",
              "\n",
              "    .dataframe tbody tr th {\n",
              "        vertical-align: top;\n",
              "    }\n",
              "\n",
              "    .dataframe thead th {\n",
              "        text-align: right;\n",
              "    }\n",
              "</style>\n",
              "<table border=\"1\" class=\"dataframe\">\n",
              "  <thead>\n",
              "    <tr style=\"text-align: right;\">\n",
              "      <th></th>\n",
              "      <th>0</th>\n",
              "      <th>1</th>\n",
              "      <th>2</th>\n",
              "      <th>3</th>\n",
              "      <th>4</th>\n",
              "      <th>5</th>\n",
              "      <th>6</th>\n",
              "      <th>7</th>\n",
              "      <th>8</th>\n",
              "      <th>9</th>\n",
              "      <th>10</th>\n",
              "      <th>11</th>\n",
              "      <th>12</th>\n",
              "      <th>13</th>\n",
              "      <th>14</th>\n",
              "      <th>15</th>\n",
              "      <th>final_adr</th>\n",
              "    </tr>\n",
              "  </thead>\n",
              "  <tbody>\n",
              "    <tr>\n",
              "      <th>0</th>\n",
              "      <td>101.763145</td>\n",
              "      <td>NaN</td>\n",
              "      <td>98.756882</td>\n",
              "      <td>92.611130</td>\n",
              "      <td>90.678856</td>\n",
              "      <td>95.814171</td>\n",
              "      <td>96.545830</td>\n",
              "      <td>90.815102</td>\n",
              "      <td>98.858635</td>\n",
              "      <td>88.173447</td>\n",
              "      <td>94.337479</td>\n",
              "      <td>100.672249</td>\n",
              "      <td>85.889496</td>\n",
              "      <td>97.234131</td>\n",
              "      <td>96.792107</td>\n",
              "      <td>92.602806</td>\n",
              "      <td>94.270166</td>\n",
              "    </tr>\n",
              "    <tr>\n",
              "      <th>1</th>\n",
              "      <td>43.326958</td>\n",
              "      <td>NaN</td>\n",
              "      <td>50.519096</td>\n",
              "      <td>50.593338</td>\n",
              "      <td>44.205395</td>\n",
              "      <td>42.085812</td>\n",
              "      <td>49.701481</td>\n",
              "      <td>40.581783</td>\n",
              "      <td>44.359417</td>\n",
              "      <td>39.808346</td>\n",
              "      <td>34.530357</td>\n",
              "      <td>58.787785</td>\n",
              "      <td>37.797218</td>\n",
              "      <td>46.357811</td>\n",
              "      <td>49.782597</td>\n",
              "      <td>46.039417</td>\n",
              "      <td>45.367847</td>\n",
              "    </tr>\n",
              "    <tr>\n",
              "      <th>2</th>\n",
              "      <td>86.269730</td>\n",
              "      <td>NaN</td>\n",
              "      <td>58.495701</td>\n",
              "      <td>53.513168</td>\n",
              "      <td>61.422215</td>\n",
              "      <td>60.998245</td>\n",
              "      <td>65.094170</td>\n",
              "      <td>61.445824</td>\n",
              "      <td>64.444633</td>\n",
              "      <td>60.927193</td>\n",
              "      <td>65.372490</td>\n",
              "      <td>67.209106</td>\n",
              "      <td>53.300945</td>\n",
              "      <td>61.827183</td>\n",
              "      <td>57.782360</td>\n",
              "      <td>60.640114</td>\n",
              "      <td>60.890953</td>\n",
              "    </tr>\n",
              "    <tr>\n",
              "      <th>3</th>\n",
              "      <td>112.073639</td>\n",
              "      <td>NaN</td>\n",
              "      <td>115.126747</td>\n",
              "      <td>106.661385</td>\n",
              "      <td>107.175003</td>\n",
              "      <td>107.607918</td>\n",
              "      <td>109.834518</td>\n",
              "      <td>99.802322</td>\n",
              "      <td>114.094109</td>\n",
              "      <td>104.080025</td>\n",
              "      <td>107.058823</td>\n",
              "      <td>118.282921</td>\n",
              "      <td>104.191795</td>\n",
              "      <td>111.615074</td>\n",
              "      <td>115.474785</td>\n",
              "      <td>109.097237</td>\n",
              "      <td>109.293047</td>\n",
              "    </tr>\n",
              "    <tr>\n",
              "      <th>4</th>\n",
              "      <td>204.763046</td>\n",
              "      <td>NaN</td>\n",
              "      <td>192.618546</td>\n",
              "      <td>196.715088</td>\n",
              "      <td>197.331558</td>\n",
              "      <td>222.737152</td>\n",
              "      <td>208.099518</td>\n",
              "      <td>186.642776</td>\n",
              "      <td>201.046860</td>\n",
              "      <td>187.077270</td>\n",
              "      <td>191.435318</td>\n",
              "      <td>201.716019</td>\n",
              "      <td>197.836578</td>\n",
              "      <td>204.573654</td>\n",
              "      <td>185.200455</td>\n",
              "      <td>202.911591</td>\n",
              "      <td>198.281599</td>\n",
              "    </tr>\n",
              "  </tbody>\n",
              "</table>\n",
              "</div>"
            ],
            "text/plain": [
              "            0   1           2  ...          14          15   final_adr\n",
              "0  101.763145 NaN   98.756882  ...   96.792107   92.602806   94.270166\n",
              "1   43.326958 NaN   50.519096  ...   49.782597   46.039417   45.367847\n",
              "2   86.269730 NaN   58.495701  ...   57.782360   60.640114   60.890953\n",
              "3  112.073639 NaN  115.126747  ...  115.474785  109.097237  109.293047\n",
              "4  204.763046 NaN  192.618546  ...  185.200455  202.911591  198.281599\n",
              "\n",
              "[5 rows x 17 columns]"
            ]
          },
          "metadata": {
            "tags": []
          },
          "execution_count": 52
        }
      ]
    },
    {
      "cell_type": "code",
      "metadata": {
        "id": "XXj5RpdG7JQZ"
      },
      "source": [
        "adr_test_pred2 = ensemble_adr_test_pred['final_adr']\n",
        "adr_test_pred = (adr_test_pred + adr_test_pred2) / 2\n",
        "print(adr_test_pred)"
      ],
      "execution_count": null,
      "outputs": []
    },
    {
      "cell_type": "code",
      "metadata": {
        "id": "6no7GEoV5KPE"
      },
      "source": [
        "test['adr_test_pred'] = adr_test_pred\n",
        "test['y_test_is_canceled_predicted'] = y_test_is_canceled_predicted\n",
        "test['cancel_probability'] = cancel_probability"
      ],
      "execution_count": null,
      "outputs": []
    },
    {
      "cell_type": "code",
      "metadata": {
        "id": "NOBsFiTZ4H74"
      },
      "source": [
        "test['predicted_revenue_1'] = test['stays'] * test['adr_test_pred'] * (1 - test['y_test_is_canceled_predicted'])\n",
        "test['predicted_revenue_2'] = test['stays'] * test['adr_test_pred'] * (1 - test['cancel_probability'])"
      ],
      "execution_count": null,
      "outputs": []
    },
    {
      "cell_type": "code",
      "metadata": {
        "id": "CiryHevS7CFz"
      },
      "source": [
        "import numpy\n",
        "\n",
        "answer1 = (test.groupby('date').sum() / 10000)['predicted_revenue_1']\n",
        "answer2 = (test.groupby('date').sum() / 10000)['predicted_revenue_2']\n",
        "# numpy.savetxt(\"answer20210109xgboost.csv\", answer, delimiter=\",\")"
      ],
      "execution_count": null,
      "outputs": []
    },
    {
      "cell_type": "code",
      "metadata": {
        "id": "CGbV8QA86Omm"
      },
      "source": [
        "answer1"
      ],
      "execution_count": null,
      "outputs": []
    },
    {
      "cell_type": "code",
      "metadata": {
        "id": "e8i7SKHHXDJs"
      },
      "source": [
        "answer2"
      ],
      "execution_count": null,
      "outputs": []
    },
    {
      "cell_type": "markdown",
      "metadata": {
        "id": "QR2eLKhif_ii"
      },
      "source": [
        "###Use Only 2016 & 2017"
      ]
    },
    {
      "cell_type": "code",
      "metadata": {
        "id": "9_kkTlPogF1k"
      },
      "source": [
        "order_list_t = order_list[21996:]"
      ],
      "execution_count": null,
      "outputs": []
    },
    {
      "cell_type": "code",
      "metadata": {
        "id": "wRq84YwYgF87"
      },
      "source": [
        "train_x_cross = train_x.iloc[ order_list_t ]\n",
        "train_y_cross = [train_is_canceled_y[i] for i in order_list_t] \n",
        "\n",
        "test_x_cross = test_x\n",
        "\n",
        "# training\n",
        "forest = ensemble.RandomForestClassifier(n_estimators=300, random_state=0)\n",
        "forest_fit = forest.fit(train_x_cross, train_y_cross)\n",
        "y_train_predicted = forest.predict(train_x_cross) \n",
        "accuracy = metrics.accuracy_score(train_y_cross, y_train_predicted)\n",
        "print('training accuracy', accuracy)\n",
        "\n",
        "# predicting\n",
        "y_test_is_canceled_predicted = forest.predict(test_x_cross) "
      ],
      "execution_count": null,
      "outputs": []
    },
    {
      "cell_type": "code",
      "metadata": {
        "id": "E94I9BUBhv7z"
      },
      "source": [
        "cancel_probability = forest.predict_proba(test_x_cross) # [cancel, not cancel]\n",
        "cancel_probability = cancel_probability[:, 1]"
      ],
      "execution_count": null,
      "outputs": []
    },
    {
      "cell_type": "code",
      "metadata": {
        "id": "ycl3VelhgGB_"
      },
      "source": [
        "test['adr_test_pred'] = adr_test_pred\n",
        "test['y_test_is_canceled_predicted'] = y_test_is_canceled_predicted\n",
        "test['cancel_probability'] = cancel_probability"
      ],
      "execution_count": null,
      "outputs": []
    },
    {
      "cell_type": "code",
      "metadata": {
        "id": "-67PsHBfgSfO"
      },
      "source": [
        "test['predicted_revenue_3'] = test['stays'] * test['adr_test_pred'] * (1 - test['y_test_is_canceled_predicted'])\n",
        "test['predicted_revenue_4'] = test['stays'] * test['adr_test_pred'] * (1 - test['cancel_probability'])"
      ],
      "execution_count": null,
      "outputs": []
    },
    {
      "cell_type": "code",
      "metadata": {
        "id": "15syhAlygSi5"
      },
      "source": [
        "answer3 = (test.groupby('date').sum() / 10000)['predicted_revenue_3']\n",
        "answer4 = (test.groupby('date').sum() / 10000)['predicted_revenue_4']\n",
        "# numpy.savetxt(\"answer20210109xgboost.csv\", answer, delimiter=\",\")"
      ],
      "execution_count": null,
      "outputs": []
    },
    {
      "cell_type": "code",
      "metadata": {
        "id": "LetbGMge8x0R"
      },
      "source": [
        "print(answer3)\n",
        "print(answer4)"
      ],
      "execution_count": null,
      "outputs": []
    },
    {
      "cell_type": "code",
      "metadata": {
        "id": "4Yrnklj5gSmm"
      },
      "source": [
        "final_answer = (answer1 + answer2 + answer3 + answer4) // 4\n",
        "print(final_answer)"
      ],
      "execution_count": null,
      "outputs": []
    },
    {
      "cell_type": "code",
      "metadata": {
        "id": "Y1TBNgmUYzee"
      },
      "source": [
        "numpy.savetxt(\"final_answer.csv\", final_answer, delimiter=\",\")"
      ],
      "execution_count": null,
      "outputs": []
    },
    {
      "cell_type": "code",
      "metadata": {
        "id": "luH6hYoU0tMF"
      },
      "source": [
        "import numpy\n",
        "import pickle\n",
        "\n",
        "numpy.savetxt(\"cancel_output_20210109.csv\", y_test_is_canceled_predicted, delimiter=\",\")\n",
        "filename = 'Best_RF.sav'\n",
        "pickle.dump(forest, open(filename, 'wb'))"
      ],
      "execution_count": null,
      "outputs": []
    },
    {
      "cell_type": "markdown",
      "metadata": {
        "id": "XzoiDIj4utQu"
      },
      "source": [
        "# Regressor"
      ]
    },
    {
      "cell_type": "markdown",
      "metadata": {
        "id": "9SVKMRQfwngL"
      },
      "source": [
        "### Split Train & Test"
      ]
    },
    {
      "cell_type": "code",
      "metadata": {
        "id": "Qyfa5T3Fwmjp"
      },
      "source": [
        "# train_x, train_adr_y = normalized_x_train_test[:-27859], train_test_adr_y[:-27859]\n",
        "# test_x, test_adr_y = normalized_x_train_test[-27859:], train_test_adr_y[-27859:]"
      ],
      "execution_count": null,
      "outputs": []
    },
    {
      "cell_type": "markdown",
      "metadata": {
        "id": "sCKepB2YuweI"
      },
      "source": [
        "### Training & Validating \n",
        "### Random Forest"
      ]
    },
    {
      "cell_type": "code",
      "metadata": {
        "colab": {
          "base_uri": "https://localhost:8080/"
        },
        "id": "gobaULKQu3Mb",
        "outputId": "a16a22aa-0f4d-4ea5-f246-56ce5d26c6f7"
      },
      "source": [
        "# from sklearn.ensemble import RandomForestRegressor\n",
        "# from sklearn.metrics import mean_squared_error\n",
        "\n",
        "# train_x_cross = train_x.iloc[ order_list_t ]\n",
        "# train_y_cross = [train_adr_y[i] for i in order_list_t] \n",
        "\n",
        "# valid_x_cross = train_x.iloc[ order_list_v ]\n",
        "# valid_y_cross = [train_adr_y[i] for i in order_list_v]\n",
        "\n",
        "# # training\n",
        "# forest = ensemble.RandomForestRegressor(n_estimators=200, \n",
        "#                                         criterion='mse', \n",
        "#                                         max_depth=None, # depth of tree \n",
        "#                                         min_samples_leaf=5, \n",
        "#                                         random_state=0)\n",
        "\n",
        "# forest_fit = forest.fit(train_x_cross, train_y_cross)\n",
        "# y_train_predicted = forest.predict(train_x_cross)\n",
        "# mse = mean_squared_error(train_y_cross, y_train_predicted) \n",
        "# print('training mse', mse)\n",
        "\n",
        "# # predicting\n",
        "# y_valid_adr_predicted = forest.predict(valid_x_cross) \n",
        "# mse = mean_squared_error(valid_y_cross, y_valid_adr_predicted) \n",
        "# print('validating mse', mse)  "
      ],
      "execution_count": null,
      "outputs": [
        {
          "output_type": "stream",
          "text": [
            "training mse 737.1139786997373\n",
            "validating mse 826.5598111843717\n"
          ],
          "name": "stdout"
        }
      ]
    },
    {
      "cell_type": "code",
      "metadata": {
        "colab": {
          "base_uri": "https://localhost:8080/"
        },
        "id": "69xqD9hU_CgB",
        "outputId": "970bc684-31ea-424d-c512-9cd8471782cc"
      },
      "source": [
        "# y_valid_is_canceled_predicted"
      ],
      "execution_count": null,
      "outputs": [
        {
          "output_type": "execute_result",
          "data": {
            "text/plain": [
              "array([0, 0, 0, ..., 0, 0, 0])"
            ]
          },
          "metadata": {
            "tags": []
          },
          "execution_count": 381
        }
      ]
    },
    {
      "cell_type": "code",
      "metadata": {
        "colab": {
          "base_uri": "https://localhost:8080/"
        },
        "id": "kuleFBtp_Kgs",
        "outputId": "e3117d0a-42d3-4d39-8849-d40f25468504"
      },
      "source": [
        "# y_valid_adr_predicted"
      ],
      "execution_count": null,
      "outputs": [
        {
          "output_type": "execute_result",
          "data": {
            "text/plain": [
              "array([ 94.34466776, 140.91786071,  67.83401687, ..., 113.42985184,\n",
              "        48.17642383,  36.99442925])"
            ]
          },
          "metadata": {
            "tags": []
          },
          "execution_count": 382
        }
      ]
    },
    {
      "cell_type": "code",
      "metadata": {
        "colab": {
          "base_uri": "https://localhost:8080/"
        },
        "id": "Ij38nvRi_dnL",
        "outputId": "1bf162d7-20d9-491f-99cc-776c12354e18"
      },
      "source": [
        "# len(y_valid_adr_predicted)"
      ],
      "execution_count": null,
      "outputs": [
        {
          "output_type": "execute_result",
          "data": {
            "text/plain": [
              "9147"
            ]
          },
          "metadata": {
            "tags": []
          },
          "execution_count": 383
        }
      ]
    },
    {
      "cell_type": "code",
      "metadata": {
        "id": "Oeb95WaCASiv"
      },
      "source": [
        "# train['date'] = pd.to_datetime(train[['arrival_date_year', 'arrival_date_month', 'arrival_date_day_of_month']].astype(str).apply(' '.join, 1))"
      ],
      "execution_count": null,
      "outputs": []
    },
    {
      "cell_type": "code",
      "metadata": {
        "id": "jHFcF9M4_Pjq"
      },
      "source": [
        "# valid_date_stay = pd.DataFrame(train.iloc[-9147:][['date', 'stays']])"
      ],
      "execution_count": null,
      "outputs": []
    },
    {
      "cell_type": "code",
      "metadata": {
        "id": "t8sa6e6kAozN"
      },
      "source": [
        "# valid_date_stay['adr'] = list(y_valid_adr_predicted)\n",
        "# valid_date_stay['is_canceled'] = list(y_valid_is_canceled_predicted)\n",
        "# valid_date_stay['not_canceled_revenue'] = valid_date_stay['adr'] * (1 - valid_date_stay['is_canceled']) * valid_date_stay['stays']"
      ],
      "execution_count": null,
      "outputs": []
    },
    {
      "cell_type": "code",
      "metadata": {
        "colab": {
          "base_uri": "https://localhost:8080/",
          "height": 235
        },
        "id": "jXGEhbQUAyfm",
        "outputId": "a9344d2c-6375-4d11-e57d-91bd5ede28cc"
      },
      "source": [
        "# y_ultimate_valid = valid_date.groupby('date').sum() // 10000\n",
        "# y_ultimate_valid.head()"
      ],
      "execution_count": null,
      "outputs": [
        {
          "output_type": "execute_result",
          "data": {
            "text/html": [
              "<div>\n",
              "<style scoped>\n",
              "    .dataframe tbody tr th:only-of-type {\n",
              "        vertical-align: middle;\n",
              "    }\n",
              "\n",
              "    .dataframe tbody tr th {\n",
              "        vertical-align: top;\n",
              "    }\n",
              "\n",
              "    .dataframe thead th {\n",
              "        text-align: right;\n",
              "    }\n",
              "</style>\n",
              "<table border=\"1\" class=\"dataframe\">\n",
              "  <thead>\n",
              "    <tr style=\"text-align: right;\">\n",
              "      <th></th>\n",
              "      <th>revenue</th>\n",
              "      <th>is_canceled</th>\n",
              "      <th>not_canceled_revenue</th>\n",
              "      <th>adr</th>\n",
              "    </tr>\n",
              "    <tr>\n",
              "      <th>date</th>\n",
              "      <th></th>\n",
              "      <th></th>\n",
              "      <th></th>\n",
              "      <th></th>\n",
              "    </tr>\n",
              "  </thead>\n",
              "  <tbody>\n",
              "    <tr>\n",
              "      <th>2017-02-01</th>\n",
              "      <td>3.0</td>\n",
              "      <td>0</td>\n",
              "      <td>1.0</td>\n",
              "      <td>3.0</td>\n",
              "    </tr>\n",
              "    <tr>\n",
              "      <th>2017-02-02</th>\n",
              "      <td>3.0</td>\n",
              "      <td>0</td>\n",
              "      <td>2.0</td>\n",
              "      <td>3.0</td>\n",
              "    </tr>\n",
              "    <tr>\n",
              "      <th>2017-02-03</th>\n",
              "      <td>2.0</td>\n",
              "      <td>0</td>\n",
              "      <td>1.0</td>\n",
              "      <td>2.0</td>\n",
              "    </tr>\n",
              "    <tr>\n",
              "      <th>2017-02-04</th>\n",
              "      <td>4.0</td>\n",
              "      <td>0</td>\n",
              "      <td>3.0</td>\n",
              "      <td>4.0</td>\n",
              "    </tr>\n",
              "    <tr>\n",
              "      <th>2017-02-05</th>\n",
              "      <td>3.0</td>\n",
              "      <td>0</td>\n",
              "      <td>3.0</td>\n",
              "      <td>3.0</td>\n",
              "    </tr>\n",
              "  </tbody>\n",
              "</table>\n",
              "</div>"
            ],
            "text/plain": [
              "            revenue  is_canceled  not_canceled_revenue  adr\n",
              "date                                                       \n",
              "2017-02-01      3.0            0                   1.0  3.0\n",
              "2017-02-02      3.0            0                   2.0  3.0\n",
              "2017-02-03      2.0            0                   1.0  2.0\n",
              "2017-02-04      4.0            0                   3.0  4.0\n",
              "2017-02-05      3.0            0                   3.0  3.0"
            ]
          },
          "metadata": {
            "tags": []
          },
          "execution_count": 241
        }
      ]
    },
    {
      "cell_type": "code",
      "metadata": {
        "id": "EE9ns6Y9CVyB"
      },
      "source": [
        "# y_label = train_label.iloc[-len(y_ultimate_valid):]['label']"
      ],
      "execution_count": null,
      "outputs": []
    },
    {
      "cell_type": "code",
      "metadata": {
        "id": "YM1qcWmWNbN4"
      },
      "source": [
        "# y_ultimate_valid['1'] = 1"
      ],
      "execution_count": null,
      "outputs": []
    },
    {
      "cell_type": "code",
      "metadata": {
        "id": "ef5CUtRnNy-x"
      },
      "source": [
        "# y_predict = y_ultimate_valid['not_canceled_revenue'] - y_ultimate_valid['1']"
      ],
      "execution_count": null,
      "outputs": []
    },
    {
      "cell_type": "code",
      "metadata": {
        "id": "Snvb4EmGC8B7"
      },
      "source": [
        "# from sklearn.metrics import mean_absolute_error\n",
        "\n",
        "# mae = mean_absolute_error(list(y_ultimate_valid['not_canceled_revenue']), y_label)"
      ],
      "execution_count": null,
      "outputs": []
    },
    {
      "cell_type": "code",
      "metadata": {
        "colab": {
          "base_uri": "https://localhost:8080/"
        },
        "id": "8Jrvib-rDnrP",
        "outputId": "0543226a-4de6-4c32-eff5-303580618c16"
      },
      "source": [
        "# mae = mean_absolute_error(y_predict, y_label)\n",
        "# mae"
      ],
      "execution_count": null,
      "outputs": [
        {
          "output_type": "execute_result",
          "data": {
            "text/plain": [
              "0.4406779661016949"
            ]
          },
          "metadata": {
            "tags": []
          },
          "execution_count": 277
        }
      ]
    },
    {
      "cell_type": "markdown",
      "metadata": {
        "id": "m_b-5yOcwa2G"
      },
      "source": [
        "### Training & Validating XG-Boost"
      ]
    },
    {
      "cell_type": "code",
      "metadata": {
        "id": "tfQ6AGweFMQL"
      },
      "source": [
        "import random\n",
        "\n",
        "order_list = []\n",
        "for i in range(len(train_x)):\n",
        "    order_list.append(i)\n",
        "\n",
        "\n",
        "# 9147 剛好切到 2017/1/31\n",
        "order_list_t = order_list[:-9147] \n",
        "order_list_v = order_list[-9147:]\n",
        "\n",
        "# 前面 21996 筆是 2015 年\n",
        "# order_list_t = order_list_t[21996:]"
      ],
      "execution_count": null,
      "outputs": []
    },
    {
      "cell_type": "code",
      "metadata": {
        "colab": {
          "base_uri": "https://localhost:8080/"
        },
        "id": "5S-7ez7-we-d",
        "outputId": "9ca1e2ec-4e8d-4ab8-8d9c-39b57a77d9ab"
      },
      "source": [
        "from xgboost.sklearn import XGBClassifier\n",
        "from sklearn import ensemble, preprocessing, metrics\n",
        "from sklearn.metrics import f1_score\n",
        "\n",
        "train_x_cross = train_x.iloc[ order_list_t ]\n",
        "train_y_cross = [train_is_canceled_y[i] for i in order_list_t] \n",
        "\n",
        "valid_x_cross = train_x.iloc[ order_list_v ]\n",
        "valid_y_cross = [train_is_canceled_y[i] for i in order_list_v]\n",
        "\n",
        "# training\n",
        "clf = XGBClassifier(\n",
        "        n_estimators=300, #樹的個數\n",
        "        learning_rate= 0.3, # 如同學習率\n",
        "        max_depth=15, # 構建樹的深度，越大越容易過擬合 \n",
        "        subsample=1, # 隨機取樣訓練樣本 訓練例項的子取樣比\n",
        "        gamma=0, # 用於控制是否後剪枝的引數,越大越保守，一般0.1、0.2這樣子\n",
        "        reg_lambda=0.1, # 控制模型複雜度的權重值的L2正則化項引數，引數越大，模型越不容易過擬合。\n",
        "        max_delta_step=0, #最大增量步長，我們允許每個樹的權重估計\n",
        "        colsample_bytree=1, # 生成樹時進行的列取樣 \n",
        "\n",
        "        # 這個引數預設是 1，是每個葉子裡面 h 的和至少是多少，對正負樣本不均衡時的 0-1 分類而言\n",
        "        # 假設 h 在 0.01 附近，min_child_weight 為 1 意味著葉子節點中最少需要包含 100 個樣本。\n",
        "        #這個引數非常影響結果，控制葉子節點中二階導的和的最小值，該引數值越小，越容易 overfitting。\n",
        "        min_child_weight=0.1, \n",
        "        seed=1000)\n",
        "\n",
        "clf.fit(train_x_cross, train_y_cross)\n",
        "y_train_predicted = clf.predict(train_x_cross) \n",
        "accuracy = metrics.accuracy_score(train_y_cross, y_train_predicted)\n",
        "print('training accuracy', accuracy)\n",
        "\n",
        "# predicting\n",
        "y_valid_predicted = clf.predict(valid_x_cross) \n",
        "accuracy = metrics.accuracy_score(valid_y_cross, y_valid_predicted)\n",
        "print('validating accuracy', accuracy)\n",
        "print('F1 Score')\n",
        "print(f1_score(valid_y_cross, y_valid_predicted, average='macro'))\n",
        "print(f1_score(valid_y_cross, y_valid_predicted, average='micro'))\n",
        "print(f1_score(valid_y_cross, y_valid_predicted, average='weighted'))"
      ],
      "execution_count": null,
      "outputs": [
        {
          "output_type": "stream",
          "text": [
            "training accuracy 0.9946470188386094\n",
            "validating accuracy 0.8191756860172734\n",
            "F1 Score\n",
            "0.7866598487937092\n",
            "0.8191756860172734\n",
            "0.8147503998535512\n"
          ],
          "name": "stdout"
        }
      ]
    },
    {
      "cell_type": "markdown",
      "metadata": {
        "id": "ors79-51kcKG"
      },
      "source": [
        "###Use All Data"
      ]
    },
    {
      "cell_type": "code",
      "metadata": {
        "colab": {
          "base_uri": "https://localhost:8080/",
          "height": 219
        },
        "id": "RiOl-njAQRCQ",
        "outputId": "da69cd9b-af2c-46fe-bc0a-d19e8a15a603"
      },
      "source": [
        "order_list_t = order_list\n",
        "\n",
        "train_x_cross = train_x.iloc[ order_list_t ]\n",
        "train_y_cross = [train_is_canceled_y[i] for i in order_list_t] \n",
        "\n",
        "test_x_cross = test_x\n",
        "\n",
        "# training\n",
        "clf = XGBClassifier(\n",
        "        n_estimators=300, #樹的個數\n",
        "        learning_rate= 0.3, # 如同學習率\n",
        "        max_depth=15, # 構建樹的深度，越大越容易過擬合 \n",
        "        subsample=1, # 隨機取樣訓練樣本 訓練例項的子取樣比\n",
        "        gamma=0, # 用於控制是否後剪枝的引數,越大越保守，一般0.1、0.2這樣子\n",
        "        reg_lambda=0.1, # 控制模型複雜度的權重值的L2正則化項引數，引數越大，模型越不容易過擬合。\n",
        "        max_delta_step=0, #最大增量步長，我們允許每個樹的權重估計\n",
        "        colsample_bytree=1, # 生成樹時進行的列取樣 \n",
        "\n",
        "        # 這個引數預設是 1，是每個葉子裡面 h 的和至少是多少，對正負樣本不均衡時的 0-1 分類而言\n",
        "        # 假設 h 在 0.01 附近，min_child_weight 為 1 意味著葉子節點中最少需要包含 100 個樣本。\n",
        "        #這個引數非常影響結果，控制葉子節點中二階導的和的最小值，該引數值越小，越容易 overfitting。\n",
        "        min_child_weight=0.1, \n",
        "        seed=1000)\n",
        "\n",
        "clf.fit(train_x_cross, train_y_cross)\n",
        "y_train_predicted = clf.predict(train_x_cross) \n",
        "accuracy = metrics.accuracy_score(train_y_cross, y_train_predicted)\n",
        "print('training accuracy', accuracy)"
      ],
      "execution_count": null,
      "outputs": [
        {
          "output_type": "stream",
          "text": [
            "training accuracy 0.9943407151675389\n"
          ],
          "name": "stdout"
        },
        {
          "output_type": "error",
          "ename": "NameError",
          "evalue": "ignored",
          "traceback": [
            "\u001b[0;31m---------------------------------------------------------------------------\u001b[0m",
            "\u001b[0;31mNameError\u001b[0m                                 Traceback (most recent call last)",
            "\u001b[0;32m<ipython-input-51-702f29511c43>\u001b[0m in \u001b[0;36m<module>\u001b[0;34m()\u001b[0m\n\u001b[1;32m     29\u001b[0m \u001b[0;34m\u001b[0m\u001b[0m\n\u001b[1;32m     30\u001b[0m \u001b[0;31m# predicting\u001b[0m\u001b[0;34m\u001b[0m\u001b[0;34m\u001b[0m\u001b[0;34m\u001b[0m\u001b[0m\n\u001b[0;32m---> 31\u001b[0;31m \u001b[0my_test_is_canceled_predicted\u001b[0m \u001b[0;34m=\u001b[0m \u001b[0mforest\u001b[0m\u001b[0;34m.\u001b[0m\u001b[0mpredict\u001b[0m\u001b[0;34m(\u001b[0m\u001b[0mtest_x_cross\u001b[0m\u001b[0;34m)\u001b[0m\u001b[0;34m\u001b[0m\u001b[0;34m\u001b[0m\u001b[0m\n\u001b[0m",
            "\u001b[0;31mNameError\u001b[0m: name 'forest' is not defined"
          ]
        }
      ]
    },
    {
      "cell_type": "code",
      "metadata": {
        "colab": {
          "base_uri": "https://localhost:8080/"
        },
        "id": "9vdCNVm6bZ8d",
        "outputId": "6dc2175d-1f6b-446e-8494-b3f6d655835a"
      },
      "source": [
        "# predicting\n",
        "y_test_is_canceled_predicted = clf.predict(test_x_cross) \n",
        "cancel_probability = clf.predict_proba(test_x_cross) # [cancel, not cancel]\n",
        "cancel_probability = cancel_probability[:, 1]\n",
        "print(y_test_is_canceled_predicted) # hard label\n",
        "print(cancel_probability) # soft label"
      ],
      "execution_count": null,
      "outputs": [
        {
          "output_type": "stream",
          "text": [
            "[0 1 0 ... 0 0 0]\n",
            "[3.8490891e-03 9.9419057e-01 8.1443973e-02 ... 2.9451087e-01 4.8741649e-06\n",
            " 3.0763773e-03]\n"
          ],
          "name": "stdout"
        }
      ]
    },
    {
      "cell_type": "code",
      "metadata": {
        "id": "5k-bIAfzjn3r"
      },
      "source": [
        "test['adr_test_pred'] = adr_test_pred\n",
        "test['y_test_is_canceled_predicted'] = y_test_is_canceled_predicted\n",
        "test['cancel_probability'] = cancel_probability\n",
        "\n",
        "test['predicted_revenue_5'] = test['stays'] * test['adr_test_pred'] * (1 - test['y_test_is_canceled_predicted'])\n",
        "test['predicted_revenue_6'] = test['stays'] * test['adr_test_pred'] * (1 - test['cancel_probability'])"
      ],
      "execution_count": null,
      "outputs": []
    },
    {
      "cell_type": "code",
      "metadata": {
        "id": "ezcFW0fkjoAq"
      },
      "source": [
        "answer5 = (test.groupby('date').sum() / 10000)['predicted_revenue_5']\n",
        "answer6 = (test.groupby('date').sum() / 10000)['predicted_revenue_6']"
      ],
      "execution_count": null,
      "outputs": []
    },
    {
      "cell_type": "markdown",
      "metadata": {
        "id": "R9zmHrZmkhfB"
      },
      "source": [
        "###Use Only 2016"
      ]
    },
    {
      "cell_type": "code",
      "metadata": {
        "colab": {
          "base_uri": "https://localhost:8080/"
        },
        "id": "Rxmmci_YjoJ0",
        "outputId": "54f76867-72e9-4773-ea5d-9788dfba17dd"
      },
      "source": [
        "order_list_t = order_list[21996:]\n",
        "\n",
        "train_x_cross = train_x.iloc[ order_list_t ]\n",
        "train_y_cross = [train_is_canceled_y[i] for i in order_list_t] \n",
        "\n",
        "test_x_cross = test_x\n",
        "\n",
        "# training\n",
        "clf = XGBClassifier(\n",
        "        n_estimators=300, #樹的個數\n",
        "        learning_rate= 0.3, # 如同學習率\n",
        "        max_depth=15, # 構建樹的深度，越大越容易過擬合 \n",
        "        subsample=1, # 隨機取樣訓練樣本 訓練例項的子取樣比\n",
        "        gamma=0, # 用於控制是否後剪枝的引數,越大越保守，一般0.1、0.2這樣子\n",
        "        reg_lambda=0.1, # 控制模型複雜度的權重值的L2正則化項引數，引數越大，模型越不容易過擬合。\n",
        "        max_delta_step=0, #最大增量步長，我們允許每個樹的權重估計\n",
        "        colsample_bytree=1, # 生成樹時進行的列取樣 \n",
        "\n",
        "        # 這個引數預設是 1，是每個葉子裡面 h 的和至少是多少，對正負樣本不均衡時的 0-1 分類而言\n",
        "        # 假設 h 在 0.01 附近，min_child_weight 為 1 意味著葉子節點中最少需要包含 100 個樣本。\n",
        "        #這個引數非常影響結果，控制葉子節點中二階導的和的最小值，該引數值越小，越容易 overfitting。\n",
        "        min_child_weight=0.1, \n",
        "        seed=1000)\n",
        "\n",
        "clf.fit(train_x_cross, train_y_cross)\n",
        "y_train_predicted = clf.predict(train_x_cross) \n",
        "accuracy = metrics.accuracy_score(train_y_cross, y_train_predicted)\n",
        "print('training accuracy', accuracy)"
      ],
      "execution_count": null,
      "outputs": [
        {
          "output_type": "stream",
          "text": [
            "training accuracy 0.9952829510318545\n"
          ],
          "name": "stdout"
        }
      ]
    },
    {
      "cell_type": "code",
      "metadata": {
        "colab": {
          "base_uri": "https://localhost:8080/"
        },
        "id": "7JGbxzMzlKlJ",
        "outputId": "2f0e9221-ed1c-4937-f9f0-84ba728e32bf"
      },
      "source": [
        "# predicting\n",
        "y_test_is_canceled_predicted = clf.predict(test_x_cross) \n",
        "cancel_probability = clf.predict_proba(test_x_cross) # [cancel, not cancel]\n",
        "cancel_probability = cancel_probability[:, 1]\n",
        "print(y_test_is_canceled_predicted) # hard label\n",
        "print(cancel_probability) # soft label"
      ],
      "execution_count": null,
      "outputs": [
        {
          "output_type": "stream",
          "text": [
            "[0 1 0 ... 0 0 0]\n",
            "[4.8760241e-03 9.8190248e-01 3.8716555e-02 ... 1.9839603e-01 4.1901229e-05\n",
            " 6.1603209e-06]\n"
          ],
          "name": "stdout"
        }
      ]
    },
    {
      "cell_type": "code",
      "metadata": {
        "id": "X48xXfIvlKqA"
      },
      "source": [
        "test['adr_test_pred'] = adr_test_pred\n",
        "test['y_test_is_canceled_predicted'] = y_test_is_canceled_predicted\n",
        "test['cancel_probability'] = cancel_probability\n",
        "\n",
        "test['predicted_revenue_7'] = test['stays'] * test['adr_test_pred'] * (1 - test['y_test_is_canceled_predicted'])\n",
        "test['predicted_revenue_8'] = test['stays'] * test['adr_test_pred'] * (1 - test['cancel_probability'])"
      ],
      "execution_count": null,
      "outputs": []
    },
    {
      "cell_type": "code",
      "metadata": {
        "id": "X82V4ICvlKtw"
      },
      "source": [
        "answer7 = (test.groupby('date').sum() / 10000)['predicted_revenue_7']\n",
        "answer8 = (test.groupby('date').sum() / 10000)['predicted_revenue_8']"
      ],
      "execution_count": null,
      "outputs": []
    },
    {
      "cell_type": "code",
      "metadata": {
        "colab": {
          "base_uri": "https://localhost:8080/"
        },
        "id": "73nT5AXOlKxi",
        "outputId": "dea37d6d-6213-4f46-cbc2-0b26e1216877"
      },
      "source": [
        "final_answer = (answer1 + answer2 + answer3 + answer4 + answer5 + answer6 + answer7 + answer8) // 8\n",
        "print(final_answer)"
      ],
      "execution_count": null,
      "outputs": [
        {
          "output_type": "stream",
          "text": [
            "date\n",
            "2017-04-01    3.0\n",
            "2017-04-02    2.0\n",
            "2017-04-03    4.0\n",
            "2017-04-04    1.0\n",
            "2017-04-05    3.0\n",
            "             ... \n",
            "2017-08-27    5.0\n",
            "2017-08-28    8.0\n",
            "2017-08-29    3.0\n",
            "2017-08-30    3.0\n",
            "2017-08-31    4.0\n",
            "Length: 153, dtype: float64\n"
          ],
          "name": "stdout"
        }
      ]
    },
    {
      "cell_type": "code",
      "metadata": {
        "id": "kjVJw1J9hkW0"
      },
      "source": [
        "numpy.savetxt(\"final_answer8.csv\", final_answer, delimiter=\",\")"
      ],
      "execution_count": null,
      "outputs": []
    },
    {
      "cell_type": "markdown",
      "metadata": {
        "id": "3MgAj2nmlTER"
      },
      "source": [
        "### Balance or Not"
      ]
    },
    {
      "cell_type": "code",
      "metadata": {
        "colab": {
          "base_uri": "https://localhost:8080/"
        },
        "id": "BFezEb29ZIun",
        "outputId": "9606128f-e944-46c6-8c1a-698b65ad6b80"
      },
      "source": [
        "# 確認資料是否不平衡\n",
        "print('No_Cancellation Num: ', list(train_y).count(0))\n",
        "print('Cancellation Num: ', list(train_y).count(1))"
      ],
      "execution_count": null,
      "outputs": [
        {
          "output_type": "stream",
          "text": [
            "No_Cancellation Num:  58771\n",
            "Cancellation Num:  32760\n"
          ],
          "name": "stdout"
        }
      ]
    }
  ]
}